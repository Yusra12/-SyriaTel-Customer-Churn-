{
 "cells": [
  {
   "cell_type": "markdown",
   "metadata": {},
   "source": [
    "# SyriaTel Customer Churn"
   ]
  },
  {
   "cell_type": "markdown",
   "metadata": {},
   "source": [
    "# 1.Business Understanding"
   ]
  },
  {
   "cell_type": "markdown",
   "metadata": {},
   "source": [
    "In the fast-paced telecommunications industry, customer retention is paramount for sustained business success. SyriaTel, a prominent telecommunications company, faces the challenge of minimizing customer churn to optimize revenue and enhance customer satisfaction. The ability to predict and identify customers at risk of leaving is crucial for implementing targeted retention strategies. By leveraging advanced machine learning techniques, SyriaTel aims to build a robust classifier that can predict whether a customer is likely to churn. This classifier will analyze historical customer data, taking into account various features such as call patterns, service usage, and customer interactions. The anticipated outcome is a predictive model that provides valuable insights into factors influencing churn and empowers SyriaTel to proactively address customer needs, reduce attrition, and foster long-term customer loyalty. The ultimate goal is to equip SyriaTel with actionable intelligence, enabling informed decision-making and strategic initiatives to enhance customer retention efforts within the competitive telecommunications landscape."
   ]
  },
  {
   "cell_type": "code",
   "execution_count": null,
   "metadata": {},
   "outputs": [],
   "source": []
  },
  {
   "cell_type": "markdown",
   "metadata": {},
   "source": [
    "# 2.Data Understanding"
   ]
  },
  {
   "cell_type": "markdown",
   "metadata": {},
   "source": [
    "Data understanding is a crucial step in data science, involving exploring and familiarizing with a dataset to gain insights into its structure, contents, and characteristics. The dataset contains 3333 rows and 21 columns, describing each customer with 21 attributes. The columns include integer types, float types, object types, and a boolean variable 'churn'. The 'churn' column is likely the target variable for a predictive model. Categorical features like'state', 'phone number', 'international plan', and 'voice mail plan' may need encoding for model training. Numerical features include call durations. The dataset appears to have no missing values, as all columns have a count of 3333. The dataset consumes around 524.2 KB of memory. It's worth checking for imbalances in the classes (churned vs. not churned customers) based on the distribution of 'churn' values."
   ]
  },
  {
   "cell_type": "markdown",
   "metadata": {},
   "source": [
    "### 2.1 Loading Data"
   ]
  },
  {
   "cell_type": "code",
   "execution_count": 863,
   "metadata": {},
   "outputs": [],
   "source": [
    "#importing necessary packages\n",
    "import pandas as pd\n",
    "import numpy as np\n",
    "import matplotlib.pyplot as plt\n",
    "import seaborn as sns\n",
    "import warnings\n",
    "warnings.filterwarnings('ignore')\n",
    "from statsmodels.stats.outliers_influence import variance_inflation_factor\n",
    "from sklearn.model_selection import train_test_split\n",
    "from sklearn.model_selection import cross_val_score\n",
    "from sklearn.linear_model import LogisticRegression\n",
    "from sklearn.preprocessing import StandardScaler\n",
    "from sklearn.metrics import precision_score,recall_score,accuracy_score,f1_score\n",
    "from sklearn.metrics import roc_curve, auc\n",
    "from sklearn.model_selection import cross_val_score\n",
    "from sklearn.metrics import confusion_matrix\n",
    "import seaborn as sns\n",
    "from sklearn.tree import DecisionTreeClassifier\n",
    "from sklearn.model_selection import GridSearchCV\n",
    "from sklearn.tree import plot_tree\n",
    "from sklearn.ensemble import RandomForestClassifier\n",
    "from sklearn.ensemble import GradientBoostingClassifier\n"
   ]
  },
  {
   "cell_type": "code",
   "execution_count": 802,
   "metadata": {},
   "outputs": [
    {
     "data": {
      "text/html": [
       "<div>\n",
       "<style scoped>\n",
       "    .dataframe tbody tr th:only-of-type {\n",
       "        vertical-align: middle;\n",
       "    }\n",
       "\n",
       "    .dataframe tbody tr th {\n",
       "        vertical-align: top;\n",
       "    }\n",
       "\n",
       "    .dataframe thead th {\n",
       "        text-align: right;\n",
       "    }\n",
       "</style>\n",
       "<table border=\"1\" class=\"dataframe\">\n",
       "  <thead>\n",
       "    <tr style=\"text-align: right;\">\n",
       "      <th></th>\n",
       "      <th>state</th>\n",
       "      <th>account length</th>\n",
       "      <th>area code</th>\n",
       "      <th>phone number</th>\n",
       "      <th>international plan</th>\n",
       "      <th>voice mail plan</th>\n",
       "      <th>number vmail messages</th>\n",
       "      <th>total day minutes</th>\n",
       "      <th>total day calls</th>\n",
       "      <th>total day charge</th>\n",
       "      <th>...</th>\n",
       "      <th>total eve calls</th>\n",
       "      <th>total eve charge</th>\n",
       "      <th>total night minutes</th>\n",
       "      <th>total night calls</th>\n",
       "      <th>total night charge</th>\n",
       "      <th>total intl minutes</th>\n",
       "      <th>total intl calls</th>\n",
       "      <th>total intl charge</th>\n",
       "      <th>customer service calls</th>\n",
       "      <th>churn</th>\n",
       "    </tr>\n",
       "  </thead>\n",
       "  <tbody>\n",
       "    <tr>\n",
       "      <th>0</th>\n",
       "      <td>KS</td>\n",
       "      <td>128</td>\n",
       "      <td>415</td>\n",
       "      <td>382-4657</td>\n",
       "      <td>no</td>\n",
       "      <td>yes</td>\n",
       "      <td>25</td>\n",
       "      <td>265.1</td>\n",
       "      <td>110</td>\n",
       "      <td>45.07</td>\n",
       "      <td>...</td>\n",
       "      <td>99</td>\n",
       "      <td>16.78</td>\n",
       "      <td>244.7</td>\n",
       "      <td>91</td>\n",
       "      <td>11.01</td>\n",
       "      <td>10.0</td>\n",
       "      <td>3</td>\n",
       "      <td>2.70</td>\n",
       "      <td>1</td>\n",
       "      <td>False</td>\n",
       "    </tr>\n",
       "    <tr>\n",
       "      <th>1</th>\n",
       "      <td>OH</td>\n",
       "      <td>107</td>\n",
       "      <td>415</td>\n",
       "      <td>371-7191</td>\n",
       "      <td>no</td>\n",
       "      <td>yes</td>\n",
       "      <td>26</td>\n",
       "      <td>161.6</td>\n",
       "      <td>123</td>\n",
       "      <td>27.47</td>\n",
       "      <td>...</td>\n",
       "      <td>103</td>\n",
       "      <td>16.62</td>\n",
       "      <td>254.4</td>\n",
       "      <td>103</td>\n",
       "      <td>11.45</td>\n",
       "      <td>13.7</td>\n",
       "      <td>3</td>\n",
       "      <td>3.70</td>\n",
       "      <td>1</td>\n",
       "      <td>False</td>\n",
       "    </tr>\n",
       "    <tr>\n",
       "      <th>2</th>\n",
       "      <td>NJ</td>\n",
       "      <td>137</td>\n",
       "      <td>415</td>\n",
       "      <td>358-1921</td>\n",
       "      <td>no</td>\n",
       "      <td>no</td>\n",
       "      <td>0</td>\n",
       "      <td>243.4</td>\n",
       "      <td>114</td>\n",
       "      <td>41.38</td>\n",
       "      <td>...</td>\n",
       "      <td>110</td>\n",
       "      <td>10.30</td>\n",
       "      <td>162.6</td>\n",
       "      <td>104</td>\n",
       "      <td>7.32</td>\n",
       "      <td>12.2</td>\n",
       "      <td>5</td>\n",
       "      <td>3.29</td>\n",
       "      <td>0</td>\n",
       "      <td>False</td>\n",
       "    </tr>\n",
       "    <tr>\n",
       "      <th>3</th>\n",
       "      <td>OH</td>\n",
       "      <td>84</td>\n",
       "      <td>408</td>\n",
       "      <td>375-9999</td>\n",
       "      <td>yes</td>\n",
       "      <td>no</td>\n",
       "      <td>0</td>\n",
       "      <td>299.4</td>\n",
       "      <td>71</td>\n",
       "      <td>50.90</td>\n",
       "      <td>...</td>\n",
       "      <td>88</td>\n",
       "      <td>5.26</td>\n",
       "      <td>196.9</td>\n",
       "      <td>89</td>\n",
       "      <td>8.86</td>\n",
       "      <td>6.6</td>\n",
       "      <td>7</td>\n",
       "      <td>1.78</td>\n",
       "      <td>2</td>\n",
       "      <td>False</td>\n",
       "    </tr>\n",
       "    <tr>\n",
       "      <th>4</th>\n",
       "      <td>OK</td>\n",
       "      <td>75</td>\n",
       "      <td>415</td>\n",
       "      <td>330-6626</td>\n",
       "      <td>yes</td>\n",
       "      <td>no</td>\n",
       "      <td>0</td>\n",
       "      <td>166.7</td>\n",
       "      <td>113</td>\n",
       "      <td>28.34</td>\n",
       "      <td>...</td>\n",
       "      <td>122</td>\n",
       "      <td>12.61</td>\n",
       "      <td>186.9</td>\n",
       "      <td>121</td>\n",
       "      <td>8.41</td>\n",
       "      <td>10.1</td>\n",
       "      <td>3</td>\n",
       "      <td>2.73</td>\n",
       "      <td>3</td>\n",
       "      <td>False</td>\n",
       "    </tr>\n",
       "  </tbody>\n",
       "</table>\n",
       "<p>5 rows × 21 columns</p>\n",
       "</div>"
      ],
      "text/plain": [
       "  state  account length  area code phone number international plan  \\\n",
       "0    KS             128        415     382-4657                 no   \n",
       "1    OH             107        415     371-7191                 no   \n",
       "2    NJ             137        415     358-1921                 no   \n",
       "3    OH              84        408     375-9999                yes   \n",
       "4    OK              75        415     330-6626                yes   \n",
       "\n",
       "  voice mail plan  number vmail messages  total day minutes  total day calls  \\\n",
       "0             yes                     25              265.1              110   \n",
       "1             yes                     26              161.6              123   \n",
       "2              no                      0              243.4              114   \n",
       "3              no                      0              299.4               71   \n",
       "4              no                      0              166.7              113   \n",
       "\n",
       "   total day charge  ...  total eve calls  total eve charge  \\\n",
       "0             45.07  ...               99             16.78   \n",
       "1             27.47  ...              103             16.62   \n",
       "2             41.38  ...              110             10.30   \n",
       "3             50.90  ...               88              5.26   \n",
       "4             28.34  ...              122             12.61   \n",
       "\n",
       "   total night minutes  total night calls  total night charge  \\\n",
       "0                244.7                 91               11.01   \n",
       "1                254.4                103               11.45   \n",
       "2                162.6                104                7.32   \n",
       "3                196.9                 89                8.86   \n",
       "4                186.9                121                8.41   \n",
       "\n",
       "   total intl minutes  total intl calls  total intl charge  \\\n",
       "0                10.0                 3               2.70   \n",
       "1                13.7                 3               3.70   \n",
       "2                12.2                 5               3.29   \n",
       "3                 6.6                 7               1.78   \n",
       "4                10.1                 3               2.73   \n",
       "\n",
       "   customer service calls  churn  \n",
       "0                       1  False  \n",
       "1                       1  False  \n",
       "2                       0  False  \n",
       "3                       2  False  \n",
       "4                       3  False  \n",
       "\n",
       "[5 rows x 21 columns]"
      ]
     },
     "execution_count": 802,
     "metadata": {},
     "output_type": "execute_result"
    }
   ],
   "source": [
    "df=pd.read_csv('Churn_dataset.csv')\n",
    "df.head()"
   ]
  },
  {
   "cell_type": "markdown",
   "metadata": {},
   "source": [
    "### 2.2 Checking Data information"
   ]
  },
  {
   "cell_type": "code",
   "execution_count": 803,
   "metadata": {},
   "outputs": [
    {
     "name": "stdout",
     "output_type": "stream",
     "text": [
      "<class 'pandas.core.frame.DataFrame'>\n",
      "RangeIndex: 3333 entries, 0 to 3332\n",
      "Data columns (total 21 columns):\n",
      " #   Column                  Non-Null Count  Dtype  \n",
      "---  ------                  --------------  -----  \n",
      " 0   state                   3333 non-null   object \n",
      " 1   account length          3333 non-null   int64  \n",
      " 2   area code               3333 non-null   int64  \n",
      " 3   phone number            3333 non-null   object \n",
      " 4   international plan      3333 non-null   object \n",
      " 5   voice mail plan         3333 non-null   object \n",
      " 6   number vmail messages   3333 non-null   int64  \n",
      " 7   total day minutes       3333 non-null   float64\n",
      " 8   total day calls         3333 non-null   int64  \n",
      " 9   total day charge        3333 non-null   float64\n",
      " 10  total eve minutes       3333 non-null   float64\n",
      " 11  total eve calls         3333 non-null   int64  \n",
      " 12  total eve charge        3333 non-null   float64\n",
      " 13  total night minutes     3333 non-null   float64\n",
      " 14  total night calls       3333 non-null   int64  \n",
      " 15  total night charge      3333 non-null   float64\n",
      " 16  total intl minutes      3333 non-null   float64\n",
      " 17  total intl calls        3333 non-null   int64  \n",
      " 18  total intl charge       3333 non-null   float64\n",
      " 19  customer service calls  3333 non-null   int64  \n",
      " 20  churn                   3333 non-null   bool   \n",
      "dtypes: bool(1), float64(8), int64(8), object(4)\n",
      "memory usage: 524.2+ KB\n"
     ]
    }
   ],
   "source": [
    "#info\n",
    "df.info()"
   ]
  },
  {
   "cell_type": "code",
   "execution_count": 804,
   "metadata": {},
   "outputs": [
    {
     "data": {
      "text/html": [
       "<div>\n",
       "<style scoped>\n",
       "    .dataframe tbody tr th:only-of-type {\n",
       "        vertical-align: middle;\n",
       "    }\n",
       "\n",
       "    .dataframe tbody tr th {\n",
       "        vertical-align: top;\n",
       "    }\n",
       "\n",
       "    .dataframe thead th {\n",
       "        text-align: right;\n",
       "    }\n",
       "</style>\n",
       "<table border=\"1\" class=\"dataframe\">\n",
       "  <thead>\n",
       "    <tr style=\"text-align: right;\">\n",
       "      <th></th>\n",
       "      <th>account length</th>\n",
       "      <th>area code</th>\n",
       "      <th>number vmail messages</th>\n",
       "      <th>total day minutes</th>\n",
       "      <th>total day calls</th>\n",
       "      <th>total day charge</th>\n",
       "      <th>total eve minutes</th>\n",
       "      <th>total eve calls</th>\n",
       "      <th>total eve charge</th>\n",
       "      <th>total night minutes</th>\n",
       "      <th>total night calls</th>\n",
       "      <th>total night charge</th>\n",
       "      <th>total intl minutes</th>\n",
       "      <th>total intl calls</th>\n",
       "      <th>total intl charge</th>\n",
       "      <th>customer service calls</th>\n",
       "    </tr>\n",
       "  </thead>\n",
       "  <tbody>\n",
       "    <tr>\n",
       "      <th>count</th>\n",
       "      <td>3333.000000</td>\n",
       "      <td>3333.000000</td>\n",
       "      <td>3333.000000</td>\n",
       "      <td>3333.000000</td>\n",
       "      <td>3333.000000</td>\n",
       "      <td>3333.000000</td>\n",
       "      <td>3333.000000</td>\n",
       "      <td>3333.000000</td>\n",
       "      <td>3333.000000</td>\n",
       "      <td>3333.000000</td>\n",
       "      <td>3333.000000</td>\n",
       "      <td>3333.000000</td>\n",
       "      <td>3333.000000</td>\n",
       "      <td>3333.000000</td>\n",
       "      <td>3333.000000</td>\n",
       "      <td>3333.000000</td>\n",
       "    </tr>\n",
       "    <tr>\n",
       "      <th>mean</th>\n",
       "      <td>101.064806</td>\n",
       "      <td>437.182418</td>\n",
       "      <td>8.099010</td>\n",
       "      <td>179.775098</td>\n",
       "      <td>100.435644</td>\n",
       "      <td>30.562307</td>\n",
       "      <td>200.980348</td>\n",
       "      <td>100.114311</td>\n",
       "      <td>17.083540</td>\n",
       "      <td>200.872037</td>\n",
       "      <td>100.107711</td>\n",
       "      <td>9.039325</td>\n",
       "      <td>10.237294</td>\n",
       "      <td>4.479448</td>\n",
       "      <td>2.764581</td>\n",
       "      <td>1.562856</td>\n",
       "    </tr>\n",
       "    <tr>\n",
       "      <th>std</th>\n",
       "      <td>39.822106</td>\n",
       "      <td>42.371290</td>\n",
       "      <td>13.688365</td>\n",
       "      <td>54.467389</td>\n",
       "      <td>20.069084</td>\n",
       "      <td>9.259435</td>\n",
       "      <td>50.713844</td>\n",
       "      <td>19.922625</td>\n",
       "      <td>4.310668</td>\n",
       "      <td>50.573847</td>\n",
       "      <td>19.568609</td>\n",
       "      <td>2.275873</td>\n",
       "      <td>2.791840</td>\n",
       "      <td>2.461214</td>\n",
       "      <td>0.753773</td>\n",
       "      <td>1.315491</td>\n",
       "    </tr>\n",
       "    <tr>\n",
       "      <th>min</th>\n",
       "      <td>1.000000</td>\n",
       "      <td>408.000000</td>\n",
       "      <td>0.000000</td>\n",
       "      <td>0.000000</td>\n",
       "      <td>0.000000</td>\n",
       "      <td>0.000000</td>\n",
       "      <td>0.000000</td>\n",
       "      <td>0.000000</td>\n",
       "      <td>0.000000</td>\n",
       "      <td>23.200000</td>\n",
       "      <td>33.000000</td>\n",
       "      <td>1.040000</td>\n",
       "      <td>0.000000</td>\n",
       "      <td>0.000000</td>\n",
       "      <td>0.000000</td>\n",
       "      <td>0.000000</td>\n",
       "    </tr>\n",
       "    <tr>\n",
       "      <th>25%</th>\n",
       "      <td>74.000000</td>\n",
       "      <td>408.000000</td>\n",
       "      <td>0.000000</td>\n",
       "      <td>143.700000</td>\n",
       "      <td>87.000000</td>\n",
       "      <td>24.430000</td>\n",
       "      <td>166.600000</td>\n",
       "      <td>87.000000</td>\n",
       "      <td>14.160000</td>\n",
       "      <td>167.000000</td>\n",
       "      <td>87.000000</td>\n",
       "      <td>7.520000</td>\n",
       "      <td>8.500000</td>\n",
       "      <td>3.000000</td>\n",
       "      <td>2.300000</td>\n",
       "      <td>1.000000</td>\n",
       "    </tr>\n",
       "    <tr>\n",
       "      <th>50%</th>\n",
       "      <td>101.000000</td>\n",
       "      <td>415.000000</td>\n",
       "      <td>0.000000</td>\n",
       "      <td>179.400000</td>\n",
       "      <td>101.000000</td>\n",
       "      <td>30.500000</td>\n",
       "      <td>201.400000</td>\n",
       "      <td>100.000000</td>\n",
       "      <td>17.120000</td>\n",
       "      <td>201.200000</td>\n",
       "      <td>100.000000</td>\n",
       "      <td>9.050000</td>\n",
       "      <td>10.300000</td>\n",
       "      <td>4.000000</td>\n",
       "      <td>2.780000</td>\n",
       "      <td>1.000000</td>\n",
       "    </tr>\n",
       "    <tr>\n",
       "      <th>75%</th>\n",
       "      <td>127.000000</td>\n",
       "      <td>510.000000</td>\n",
       "      <td>20.000000</td>\n",
       "      <td>216.400000</td>\n",
       "      <td>114.000000</td>\n",
       "      <td>36.790000</td>\n",
       "      <td>235.300000</td>\n",
       "      <td>114.000000</td>\n",
       "      <td>20.000000</td>\n",
       "      <td>235.300000</td>\n",
       "      <td>113.000000</td>\n",
       "      <td>10.590000</td>\n",
       "      <td>12.100000</td>\n",
       "      <td>6.000000</td>\n",
       "      <td>3.270000</td>\n",
       "      <td>2.000000</td>\n",
       "    </tr>\n",
       "    <tr>\n",
       "      <th>max</th>\n",
       "      <td>243.000000</td>\n",
       "      <td>510.000000</td>\n",
       "      <td>51.000000</td>\n",
       "      <td>350.800000</td>\n",
       "      <td>165.000000</td>\n",
       "      <td>59.640000</td>\n",
       "      <td>363.700000</td>\n",
       "      <td>170.000000</td>\n",
       "      <td>30.910000</td>\n",
       "      <td>395.000000</td>\n",
       "      <td>175.000000</td>\n",
       "      <td>17.770000</td>\n",
       "      <td>20.000000</td>\n",
       "      <td>20.000000</td>\n",
       "      <td>5.400000</td>\n",
       "      <td>9.000000</td>\n",
       "    </tr>\n",
       "  </tbody>\n",
       "</table>\n",
       "</div>"
      ],
      "text/plain": [
       "       account length    area code  number vmail messages  total day minutes  \\\n",
       "count     3333.000000  3333.000000            3333.000000        3333.000000   \n",
       "mean       101.064806   437.182418               8.099010         179.775098   \n",
       "std         39.822106    42.371290              13.688365          54.467389   \n",
       "min          1.000000   408.000000               0.000000           0.000000   \n",
       "25%         74.000000   408.000000               0.000000         143.700000   \n",
       "50%        101.000000   415.000000               0.000000         179.400000   \n",
       "75%        127.000000   510.000000              20.000000         216.400000   \n",
       "max        243.000000   510.000000              51.000000         350.800000   \n",
       "\n",
       "       total day calls  total day charge  total eve minutes  total eve calls  \\\n",
       "count      3333.000000       3333.000000        3333.000000      3333.000000   \n",
       "mean        100.435644         30.562307         200.980348       100.114311   \n",
       "std          20.069084          9.259435          50.713844        19.922625   \n",
       "min           0.000000          0.000000           0.000000         0.000000   \n",
       "25%          87.000000         24.430000         166.600000        87.000000   \n",
       "50%         101.000000         30.500000         201.400000       100.000000   \n",
       "75%         114.000000         36.790000         235.300000       114.000000   \n",
       "max         165.000000         59.640000         363.700000       170.000000   \n",
       "\n",
       "       total eve charge  total night minutes  total night calls  \\\n",
       "count       3333.000000          3333.000000        3333.000000   \n",
       "mean          17.083540           200.872037         100.107711   \n",
       "std            4.310668            50.573847          19.568609   \n",
       "min            0.000000            23.200000          33.000000   \n",
       "25%           14.160000           167.000000          87.000000   \n",
       "50%           17.120000           201.200000         100.000000   \n",
       "75%           20.000000           235.300000         113.000000   \n",
       "max           30.910000           395.000000         175.000000   \n",
       "\n",
       "       total night charge  total intl minutes  total intl calls  \\\n",
       "count         3333.000000         3333.000000       3333.000000   \n",
       "mean             9.039325           10.237294          4.479448   \n",
       "std              2.275873            2.791840          2.461214   \n",
       "min              1.040000            0.000000          0.000000   \n",
       "25%              7.520000            8.500000          3.000000   \n",
       "50%              9.050000           10.300000          4.000000   \n",
       "75%             10.590000           12.100000          6.000000   \n",
       "max             17.770000           20.000000         20.000000   \n",
       "\n",
       "       total intl charge  customer service calls  \n",
       "count        3333.000000             3333.000000  \n",
       "mean            2.764581                1.562856  \n",
       "std             0.753773                1.315491  \n",
       "min             0.000000                0.000000  \n",
       "25%             2.300000                1.000000  \n",
       "50%             2.780000                1.000000  \n",
       "75%             3.270000                2.000000  \n",
       "max             5.400000                9.000000  "
      ]
     },
     "execution_count": 804,
     "metadata": {},
     "output_type": "execute_result"
    }
   ],
   "source": [
    "df.describe()"
   ]
  },
  {
   "cell_type": "code",
   "execution_count": 805,
   "metadata": {},
   "outputs": [
    {
     "data": {
      "text/plain": [
       "(3333, 21)"
      ]
     },
     "execution_count": 805,
     "metadata": {},
     "output_type": "execute_result"
    }
   ],
   "source": [
    "df.shape"
   ]
  },
  {
   "cell_type": "code",
   "execution_count": 806,
   "metadata": {},
   "outputs": [
    {
     "data": {
      "text/plain": [
       "Index(['state', 'account length', 'area code', 'phone number',\n",
       "       'international plan', 'voice mail plan', 'number vmail messages',\n",
       "       'total day minutes', 'total day calls', 'total day charge',\n",
       "       'total eve minutes', 'total eve calls', 'total eve charge',\n",
       "       'total night minutes', 'total night calls', 'total night charge',\n",
       "       'total intl minutes', 'total intl calls', 'total intl charge',\n",
       "       'customer service calls', 'churn'],\n",
       "      dtype='object')"
      ]
     },
     "execution_count": 806,
     "metadata": {},
     "output_type": "execute_result"
    }
   ],
   "source": [
    "df.columns"
   ]
  },
  {
   "cell_type": "markdown",
   "metadata": {},
   "source": [
    "# 3.Data Preparation"
   ]
  },
  {
   "cell_type": "markdown",
   "metadata": {},
   "source": [
    "1.Handling Missing Data\n",
    "\n",
    "2.Handling Duplicates\n",
    "\n",
    "3.Handling Outliers\n",
    "\n",
    "4.Feature Engineering\n",
    "\n",
    "5.Exploratory Data Analysis\n",
    "\n",
    "6.Dealing with Multicollinearity\n",
    "\n"
   ]
  },
  {
   "cell_type": "markdown",
   "metadata": {},
   "source": [
    "### 3.1.Handling Missing Data"
   ]
  },
  {
   "cell_type": "code",
   "execution_count": 807,
   "metadata": {},
   "outputs": [
    {
     "data": {
      "text/plain": [
       "state                     0\n",
       "account length            0\n",
       "area code                 0\n",
       "phone number              0\n",
       "international plan        0\n",
       "voice mail plan           0\n",
       "number vmail messages     0\n",
       "total day minutes         0\n",
       "total day calls           0\n",
       "total day charge          0\n",
       "total eve minutes         0\n",
       "total eve calls           0\n",
       "total eve charge          0\n",
       "total night minutes       0\n",
       "total night calls         0\n",
       "total night charge        0\n",
       "total intl minutes        0\n",
       "total intl calls          0\n",
       "total intl charge         0\n",
       "customer service calls    0\n",
       "churn                     0\n",
       "dtype: int64"
      ]
     },
     "execution_count": 807,
     "metadata": {},
     "output_type": "execute_result"
    }
   ],
   "source": [
    "#Identifying missing values\n",
    "df.isna().sum()"
   ]
  },
  {
   "cell_type": "markdown",
   "metadata": {},
   "source": [
    "There are no missing values"
   ]
  },
  {
   "cell_type": "markdown",
   "metadata": {},
   "source": [
    "### 3.2.Handling Duplicates"
   ]
  },
  {
   "cell_type": "code",
   "execution_count": 808,
   "metadata": {},
   "outputs": [
    {
     "data": {
      "text/plain": [
       "0"
      ]
     },
     "execution_count": 808,
     "metadata": {},
     "output_type": "execute_result"
    }
   ],
   "source": [
    "df.duplicated().sum()"
   ]
  },
  {
   "cell_type": "markdown",
   "metadata": {},
   "source": [
    "There are no duplicates values"
   ]
  },
  {
   "cell_type": "code",
   "execution_count": 809,
   "metadata": {},
   "outputs": [
    {
     "data": {
      "text/plain": [
       "state                      object\n",
       "account length              int64\n",
       "area code                   int64\n",
       "phone number               object\n",
       "international plan         object\n",
       "voice mail plan            object\n",
       "number vmail messages       int64\n",
       "total day minutes         float64\n",
       "total day calls             int64\n",
       "total day charge          float64\n",
       "total eve minutes         float64\n",
       "total eve calls             int64\n",
       "total eve charge          float64\n",
       "total night minutes       float64\n",
       "total night calls           int64\n",
       "total night charge        float64\n",
       "total intl minutes        float64\n",
       "total intl calls            int64\n",
       "total intl charge         float64\n",
       "customer service calls      int64\n",
       "churn                        bool\n",
       "dtype: object"
      ]
     },
     "execution_count": 809,
     "metadata": {},
     "output_type": "execute_result"
    }
   ],
   "source": [
    "#identify the data types \n",
    "df.dtypes"
   ]
  },
  {
   "cell_type": "markdown",
   "metadata": {},
   "source": [
    "'State','Phone number', 'Internaltional plan','voice mail plan' are categorical data \n"
   ]
  },
  {
   "cell_type": "markdown",
   "metadata": {},
   "source": [
    "Dropping phone number because its not needed in data analysis "
   ]
  },
  {
   "cell_type": "code",
   "execution_count": 810,
   "metadata": {},
   "outputs": [],
   "source": [
    "df.drop('phone number',axis =1 , inplace =True)"
   ]
  },
  {
   "cell_type": "code",
   "execution_count": 811,
   "metadata": {},
   "outputs": [
    {
     "data": {
      "text/plain": [
       "(3333, 20)"
      ]
     },
     "execution_count": 811,
     "metadata": {},
     "output_type": "execute_result"
    }
   ],
   "source": [
    "df.shape"
   ]
  },
  {
   "cell_type": "markdown",
   "metadata": {},
   "source": [
    "## 3.3 Handling Outliers"
   ]
  },
  {
   "cell_type": "code",
   "execution_count": 812,
   "metadata": {},
   "outputs": [],
   "source": [
    "#function to detect the outliers\n",
    "def detect_outliers(data,k=1.5):\n",
    "    q1=data.quantile(0.25)\n",
    "    q3=data.quantile(0.75)\n",
    "    iqr=q3-q1\n",
    "    lower_bound=q1-k*iqr\n",
    "    upper_bound=q3+k*iqr\n",
    "    outlier=(data<lower_bound)|(data >upper_bound)\n",
    "    return outlier\n",
    "\n"
   ]
  },
  {
   "cell_type": "code",
   "execution_count": 813,
   "metadata": {},
   "outputs": [
    {
     "name": "stdout",
     "output_type": "stream",
     "text": [
      "Column \"account length\" has 18 outlier(s):\n",
      "197     208\n",
      "238     215\n",
      "309     209\n",
      "416     224\n",
      "817     243\n",
      "1045    217\n",
      "1093    210\n",
      "1387    212\n",
      "1408    232\n",
      "1551    225\n",
      "1751    225\n",
      "1886    224\n",
      "2150    212\n",
      "2259    210\n",
      "2277    217\n",
      "2700    209\n",
      "3216    221\n",
      "3227    209\n",
      "Name: account length, dtype: int64\n",
      "Outliers in column \"account length\" have been dropped\n"
     ]
    },
    {
     "data": {
      "image/png": "[encoded data removed]",
      "text/plain": [
       "<Figure size 432x288 with 1 Axes>"
      ]
     },
     "metadata": {
      "needs_background": "light"
     },
     "output_type": "display_data"
    },
    {
     "name": "stdout",
     "output_type": "stream",
     "text": [
      "Column\"area code\" has no outliers.\n",
      "Column \"number vmail messages\" has 1 outlier(s):\n",
      "845    51\n",
      "Name: number vmail messages, dtype: int64\n",
      "Outliers in column \"number vmail messages\" have been dropped\n"
     ]
    },
    {
     "data": {
      "image/png": "[encoded data removed]",
      "text/plain": [
       "<Figure size 432x288 with 1 Axes>"
      ]
     },
     "metadata": {
      "needs_background": "light"
     },
     "output_type": "display_data"
    },
    {
     "name": "stdout",
     "output_type": "stream",
     "text": [
      "Column \"total day minutes\" has 24 outlier(s):\n",
      "15      332.9\n",
      "156     337.4\n",
      "365     350.8\n",
      "605     335.5\n",
      "685      30.9\n",
      "741      34.0\n",
      "975     334.3\n",
      "985     346.8\n",
      "1052     12.5\n",
      "1076     25.9\n",
      "1345      0.0\n",
      "1397      0.0\n",
      "1621     19.5\n",
      "1679    329.8\n",
      "1986      7.9\n",
      "2028    328.1\n",
      "2124     27.0\n",
      "2252     17.6\n",
      "2412    326.3\n",
      "2594    345.3\n",
      "2736      2.6\n",
      "2753      7.8\n",
      "3046     18.9\n",
      "3174     29.9\n",
      "Name: total day minutes, dtype: float64\n",
      "Outliers in column \"total day minutes\" have been dropped\n"
     ]
    },
    {
     "data": {
      "image/png": "[encoded data removed]",
      "text/plain": [
       "<Figure size 432x288 with 1 Axes>"
      ]
     },
     "metadata": {
      "needs_background": "light"
     },
     "output_type": "display_data"
    },
    {
     "name": "stdout",
     "output_type": "stream",
     "text": [
      "Column \"total day calls\" has 21 outlier(s):\n",
      "315     158\n",
      "468     163\n",
      "692      36\n",
      "740      40\n",
      "1057    158\n",
      "1121    165\n",
      "1144     30\n",
      "1322     42\n",
      "1346     45\n",
      "1422     45\n",
      "1460    160\n",
      "1869    156\n",
      "1989     35\n",
      "2217     42\n",
      "2392    158\n",
      "2394    157\n",
      "2492     45\n",
      "2884     44\n",
      "2885     44\n",
      "2964     44\n",
      "3187     40\n",
      "Name: total day calls, dtype: int64\n",
      "Outliers in column \"total day calls\" have been dropped\n"
     ]
    },
    {
     "data": {
      "image/png": "[encoded data removed]",
      "text/plain": [
       "<Figure size 432x288 with 1 Axes>"
      ]
     },
     "metadata": {
      "needs_background": "light"
     },
     "output_type": "display_data"
    },
    {
     "name": "stdout",
     "output_type": "stream",
     "text": [
      "Column \"total day charge\" has 2 outlier(s):\n",
      "1130     5.97\n",
      "2824    55.20\n",
      "Name: total day charge, dtype: float64\n",
      "Outliers in column \"total day charge\" have been dropped\n"
     ]
    },
    {
     "data": {
      "image/png": "[encoded data removed]",
      "text/plain": [
       "<Figure size 432x288 with 1 Axes>"
      ]
     },
     "metadata": {
      "needs_background": "light"
     },
     "output_type": "display_data"
    },
    {
     "name": "stdout",
     "output_type": "stream",
     "text": [
      "Column \"total eve minutes\" has 25 outlier(s):\n",
      "3        61.9\n",
      "6       348.5\n",
      "8       351.6\n",
      "32       31.2\n",
      "186      64.3\n",
      "302     350.5\n",
      "533      42.2\n",
      "580     347.3\n",
      "587      58.9\n",
      "821      43.9\n",
      "850      52.9\n",
      "889      42.5\n",
      "893      60.8\n",
      "1054     58.6\n",
      "1190     56.0\n",
      "1233     48.1\n",
      "1335     60.0\n",
      "1601    350.9\n",
      "1960     49.2\n",
      "2160    339.9\n",
      "2331    361.8\n",
      "2551    354.2\n",
      "2732    363.7\n",
      "2932      0.0\n",
      "3075    341.3\n",
      "Name: total eve minutes, dtype: float64\n",
      "Outliers in column \"total eve minutes\" have been dropped\n"
     ]
    },
    {
     "data": {
      "image/png": "[encoded data removed]",
      "text/plain": [
       "<Figure size 432x288 with 1 Axes>"
      ]
     },
     "metadata": {
      "needs_background": "light"
     },
     "output_type": "display_data"
    },
    {
     "name": "stdout",
     "output_type": "stream",
     "text": [
      "Column \"total eve calls\" has 19 outlier(s):\n",
      "58      164\n",
      "154      46\n",
      "301     168\n",
      "475      42\n",
      "646      37\n",
      "960      12\n",
      "1020    157\n",
      "1071    155\n",
      "1266     45\n",
      "1615     36\n",
      "1706    156\n",
      "1730     46\n",
      "1856     44\n",
      "2227    155\n",
      "2592     46\n",
      "2853     43\n",
      "3121    155\n",
      "3157    159\n",
      "3219    170\n",
      "Name: total eve calls, dtype: int64\n",
      "Outliers in column \"total eve calls\" have been dropped\n"
     ]
    },
    {
     "data": {
      "image/png": "[encoded data removed]",
      "text/plain": [
       "<Figure size 432x288 with 1 Axes>"
      ]
     },
     "metadata": {
      "needs_background": "light"
     },
     "output_type": "display_data"
    },
    {
     "name": "stdout",
     "output_type": "stream",
     "text": [
      "Column \"total eve charge\" has 2 outlier(s):\n",
      "529     28.65\n",
      "1906     5.54\n",
      "Name: total eve charge, dtype: float64\n",
      "Outliers in column \"total eve charge\" have been dropped\n"
     ]
    },
    {
     "data": {
      "image/png": "[encoded data removed]",
      "text/plain": [
       "<Figure size 432x288 with 1 Axes>"
      ]
     },
     "metadata": {
      "needs_background": "light"
     },
     "output_type": "display_data"
    },
    {
     "name": "stdout",
     "output_type": "stream",
     "text": [
      "Column \"total night minutes\" has 30 outlier(s):\n",
      "116      57.5\n",
      "244     354.9\n",
      "444     349.2\n",
      "862     345.8\n",
      "883      45.0\n",
      "918     342.8\n",
      "922     364.3\n",
      "992      63.3\n",
      "999      54.5\n",
      "1072     50.1\n",
      "1113     43.7\n",
      "1202    349.7\n",
      "1238    352.5\n",
      "1260     23.2\n",
      "1313     63.6\n",
      "1317    381.9\n",
      "1445    377.5\n",
      "2321    367.7\n",
      "2350     56.6\n",
      "2382     54.0\n",
      "2452     64.2\n",
      "2609    344.3\n",
      "2663    395.0\n",
      "2754    350.2\n",
      "2756     50.1\n",
      "3024     53.3\n",
      "3060    352.2\n",
      "3107    364.9\n",
      "3159     61.4\n",
      "3247     47.4\n",
      "Name: total night minutes, dtype: float64\n",
      "Outliers in column \"total night minutes\" have been dropped\n"
     ]
    },
    {
     "data": {
      "image/png": "[encoded data removed]",
      "text/plain": [
       "<Figure size 432x288 with 1 Axes>"
      ]
     },
     "metadata": {
      "needs_background": "light"
     },
     "output_type": "display_data"
    },
    {
     "name": "stdout",
     "output_type": "stream",
     "text": [
      "Column \"total night calls\" has 20 outlier(s):\n",
      "326      42\n",
      "335      44\n",
      "395      42\n",
      "429     153\n",
      "493     175\n",
      "586     154\n",
      "901     158\n",
      "1109    155\n",
      "1200    157\n",
      "1296    157\n",
      "1748    154\n",
      "1810    153\n",
      "2288    166\n",
      "2659     33\n",
      "2728    155\n",
      "2903     38\n",
      "2988     36\n",
      "3172    156\n",
      "3211    164\n",
      "3234    153\n",
      "Name: total night calls, dtype: int64\n",
      "Outliers in column \"total night calls\" have been dropped\n"
     ]
    },
    {
     "data": {
      "image/png": "[encoded data removed]",
      "text/plain": [
       "<Figure size 432x288 with 1 Axes>"
      ]
     },
     "metadata": {
      "needs_background": "light"
     },
     "output_type": "display_data"
    },
    {
     "name": "stdout",
     "output_type": "stream",
     "text": [
      "Column\"total night charge\" has no outliers.\n",
      "Column \"total intl minutes\" has 44 outlier(s):\n",
      "115     20.0\n",
      "179      0.0\n",
      "214     17.6\n",
      "225      2.7\n",
      "314     18.9\n",
      "343      0.0\n",
      "367     18.0\n",
      "397      2.0\n",
      "488      0.0\n",
      "535     18.2\n",
      "595      0.0\n",
      "712      0.0\n",
      "762      1.3\n",
      "878      0.0\n",
      "1028     0.0\n",
      "1080     0.0\n",
      "1099     2.2\n",
      "1257    18.0\n",
      "1400     0.0\n",
      "1420    17.9\n",
      "1564     0.0\n",
      "1816    18.4\n",
      "1966     2.0\n",
      "2004    17.8\n",
      "2180     2.9\n",
      "2197     3.1\n",
      "2229    17.6\n",
      "2256     2.6\n",
      "2345     0.0\n",
      "2362     0.0\n",
      "2371    18.2\n",
      "2513     0.0\n",
      "2534    18.0\n",
      "2669     1.1\n",
      "2733     0.0\n",
      "2816    18.3\n",
      "2906     0.0\n",
      "2918     0.0\n",
      "2933     2.1\n",
      "3022     2.9\n",
      "3160     2.1\n",
      "3275     0.0\n",
      "3290     0.0\n",
      "3307    17.8\n",
      "Name: total intl minutes, dtype: float64\n",
      "Outliers in column \"total intl minutes\" have been dropped\n"
     ]
    },
    {
     "data": {
      "image/png": "[encoded data removed]",
      "text/plain": [
       "<Figure size 432x288 with 1 Axes>"
      ]
     },
     "metadata": {
      "needs_background": "light"
     },
     "output_type": "display_data"
    },
    {
     "name": "stdout",
     "output_type": "stream",
     "text": [
      "Column \"total intl calls\" has 76 outlier(s):\n",
      "22      19\n",
      "41      15\n",
      "153     11\n",
      "182     12\n",
      "185     13\n",
      "        ..\n",
      "3128    11\n",
      "3206    13\n",
      "3230    14\n",
      "3291    20\n",
      "3310    17\n",
      "Name: total intl calls, Length: 76, dtype: int64\n",
      "Outliers in column \"total intl calls\" have been dropped\n"
     ]
    },
    {
     "data": {
      "image/png": "[encoded data removed]",
      "text/plain": [
       "<Figure size 432x288 with 1 Axes>"
      ]
     },
     "metadata": {
      "needs_background": "light"
     },
     "output_type": "display_data"
    },
    {
     "name": "stdout",
     "output_type": "stream",
     "text": [
      "Column \"total intl charge\" has 5 outlier(s):\n",
      "502     4.73\n",
      "515     4.73\n",
      "2198    0.89\n",
      "2679    0.89\n",
      "3080    4.73\n",
      "Name: total intl charge, dtype: float64\n",
      "Outliers in column \"total intl charge\" have been dropped\n"
     ]
    },
    {
     "data": {
      "image/png": "[encoded data removed]",
      "text/plain": [
       "<Figure size 432x288 with 1 Axes>"
      ]
     },
     "metadata": {
      "needs_background": "light"
     },
     "output_type": "display_data"
    },
    {
     "name": "stdout",
     "output_type": "stream",
     "text": [
      "Column \"customer service calls\" has 249 outlier(s):\n",
      "10      4\n",
      "14      4\n",
      "21      5\n",
      "48      5\n",
      "54      5\n",
      "       ..\n",
      "3304    4\n",
      "3309    4\n",
      "3320    4\n",
      "3322    4\n",
      "3323    5\n",
      "Name: customer service calls, Length: 249, dtype: int64\n",
      "Outliers in column \"customer service calls\" have been dropped\n"
     ]
    },
    {
     "data": {
      "image/png": "[encoded data removed]",
      "text/plain": [
       "<Figure size 432x288 with 1 Axes>"
      ]
     },
     "metadata": {
      "needs_background": "light"
     },
     "output_type": "display_data"
    }
   ],
   "source": [
    "#lets loop over each column in the df to detect the outlier\n",
    "for col in df.columns:\n",
    "    if np.issubdtype(df[col].dtype,np.number):\n",
    "        outliers=detect_outliers(df[col])\n",
    "        if outliers.any():\n",
    "            print(f'Column \"{col}\" has {outliers.sum()} outlier(s):\\n{df[col][outliers]}')\n",
    "            #Lets drop the outliers\n",
    "            df=df[~outliers]\n",
    "            print(f'Outliers in column \"{col}\" have been dropped')\n",
    "            #plot a boxplot of the columns without outliers\n",
    "            fig,ax=plt.subplots()\n",
    "            ax.boxplot(df[col])\n",
    "            ax.set_title(f'Boxplot of column \"{col}\" without outliers')\n",
    "            plt.show()\n",
    "        else:\n",
    "            print(f'Column\"{col}\" has no outliers.')\n",
    "                                                        \n",
    "            \n"
   ]
  },
  {
   "cell_type": "markdown",
   "metadata": {},
   "source": [
    "## 3.4.Feature Engineering"
   ]
  },
  {
   "cell_type": "markdown",
   "metadata": {},
   "source": [
    "Add a new feature that gets the tota expenditure by adding day,evening,night and total internation charge"
   ]
  },
  {
   "cell_type": "code",
   "execution_count": 814,
   "metadata": {},
   "outputs": [
    {
     "data": {
      "text/html": [
       "<div>\n",
       "<style scoped>\n",
       "    .dataframe tbody tr th:only-of-type {\n",
       "        vertical-align: middle;\n",
       "    }\n",
       "\n",
       "    .dataframe tbody tr th {\n",
       "        vertical-align: top;\n",
       "    }\n",
       "\n",
       "    .dataframe thead th {\n",
       "        text-align: right;\n",
       "    }\n",
       "</style>\n",
       "<table border=\"1\" class=\"dataframe\">\n",
       "  <thead>\n",
       "    <tr style=\"text-align: right;\">\n",
       "      <th></th>\n",
       "      <th>state</th>\n",
       "      <th>account length</th>\n",
       "      <th>area code</th>\n",
       "      <th>international plan</th>\n",
       "      <th>voice mail plan</th>\n",
       "      <th>number vmail messages</th>\n",
       "      <th>total day minutes</th>\n",
       "      <th>total day calls</th>\n",
       "      <th>total day charge</th>\n",
       "      <th>total eve minutes</th>\n",
       "      <th>...</th>\n",
       "      <th>total eve charge</th>\n",
       "      <th>total night minutes</th>\n",
       "      <th>total night calls</th>\n",
       "      <th>total night charge</th>\n",
       "      <th>total intl minutes</th>\n",
       "      <th>total intl calls</th>\n",
       "      <th>total intl charge</th>\n",
       "      <th>customer service calls</th>\n",
       "      <th>churn</th>\n",
       "      <th>total_expenditure</th>\n",
       "    </tr>\n",
       "  </thead>\n",
       "  <tbody>\n",
       "    <tr>\n",
       "      <th>0</th>\n",
       "      <td>KS</td>\n",
       "      <td>128</td>\n",
       "      <td>415</td>\n",
       "      <td>no</td>\n",
       "      <td>yes</td>\n",
       "      <td>25</td>\n",
       "      <td>265.1</td>\n",
       "      <td>110</td>\n",
       "      <td>45.07</td>\n",
       "      <td>197.4</td>\n",
       "      <td>...</td>\n",
       "      <td>16.78</td>\n",
       "      <td>244.7</td>\n",
       "      <td>91</td>\n",
       "      <td>11.01</td>\n",
       "      <td>10.0</td>\n",
       "      <td>3</td>\n",
       "      <td>2.70</td>\n",
       "      <td>1</td>\n",
       "      <td>False</td>\n",
       "      <td>75.56</td>\n",
       "    </tr>\n",
       "    <tr>\n",
       "      <th>1</th>\n",
       "      <td>OH</td>\n",
       "      <td>107</td>\n",
       "      <td>415</td>\n",
       "      <td>no</td>\n",
       "      <td>yes</td>\n",
       "      <td>26</td>\n",
       "      <td>161.6</td>\n",
       "      <td>123</td>\n",
       "      <td>27.47</td>\n",
       "      <td>195.5</td>\n",
       "      <td>...</td>\n",
       "      <td>16.62</td>\n",
       "      <td>254.4</td>\n",
       "      <td>103</td>\n",
       "      <td>11.45</td>\n",
       "      <td>13.7</td>\n",
       "      <td>3</td>\n",
       "      <td>3.70</td>\n",
       "      <td>1</td>\n",
       "      <td>False</td>\n",
       "      <td>59.24</td>\n",
       "    </tr>\n",
       "    <tr>\n",
       "      <th>2</th>\n",
       "      <td>NJ</td>\n",
       "      <td>137</td>\n",
       "      <td>415</td>\n",
       "      <td>no</td>\n",
       "      <td>no</td>\n",
       "      <td>0</td>\n",
       "      <td>243.4</td>\n",
       "      <td>114</td>\n",
       "      <td>41.38</td>\n",
       "      <td>121.2</td>\n",
       "      <td>...</td>\n",
       "      <td>10.30</td>\n",
       "      <td>162.6</td>\n",
       "      <td>104</td>\n",
       "      <td>7.32</td>\n",
       "      <td>12.2</td>\n",
       "      <td>5</td>\n",
       "      <td>3.29</td>\n",
       "      <td>0</td>\n",
       "      <td>False</td>\n",
       "      <td>62.29</td>\n",
       "    </tr>\n",
       "    <tr>\n",
       "      <th>4</th>\n",
       "      <td>OK</td>\n",
       "      <td>75</td>\n",
       "      <td>415</td>\n",
       "      <td>yes</td>\n",
       "      <td>no</td>\n",
       "      <td>0</td>\n",
       "      <td>166.7</td>\n",
       "      <td>113</td>\n",
       "      <td>28.34</td>\n",
       "      <td>148.3</td>\n",
       "      <td>...</td>\n",
       "      <td>12.61</td>\n",
       "      <td>186.9</td>\n",
       "      <td>121</td>\n",
       "      <td>8.41</td>\n",
       "      <td>10.1</td>\n",
       "      <td>3</td>\n",
       "      <td>2.73</td>\n",
       "      <td>3</td>\n",
       "      <td>False</td>\n",
       "      <td>52.09</td>\n",
       "    </tr>\n",
       "    <tr>\n",
       "      <th>5</th>\n",
       "      <td>AL</td>\n",
       "      <td>118</td>\n",
       "      <td>510</td>\n",
       "      <td>yes</td>\n",
       "      <td>no</td>\n",
       "      <td>0</td>\n",
       "      <td>223.4</td>\n",
       "      <td>98</td>\n",
       "      <td>37.98</td>\n",
       "      <td>220.6</td>\n",
       "      <td>...</td>\n",
       "      <td>18.75</td>\n",
       "      <td>203.9</td>\n",
       "      <td>118</td>\n",
       "      <td>9.18</td>\n",
       "      <td>6.3</td>\n",
       "      <td>6</td>\n",
       "      <td>1.70</td>\n",
       "      <td>0</td>\n",
       "      <td>False</td>\n",
       "      <td>67.61</td>\n",
       "    </tr>\n",
       "  </tbody>\n",
       "</table>\n",
       "<p>5 rows × 21 columns</p>\n",
       "</div>"
      ],
      "text/plain": [
       "  state  account length  area code international plan voice mail plan  \\\n",
       "0    KS             128        415                 no             yes   \n",
       "1    OH             107        415                 no             yes   \n",
       "2    NJ             137        415                 no              no   \n",
       "4    OK              75        415                yes              no   \n",
       "5    AL             118        510                yes              no   \n",
       "\n",
       "   number vmail messages  total day minutes  total day calls  \\\n",
       "0                     25              265.1              110   \n",
       "1                     26              161.6              123   \n",
       "2                      0              243.4              114   \n",
       "4                      0              166.7              113   \n",
       "5                      0              223.4               98   \n",
       "\n",
       "   total day charge  total eve minutes  ...  total eve charge  \\\n",
       "0             45.07              197.4  ...             16.78   \n",
       "1             27.47              195.5  ...             16.62   \n",
       "2             41.38              121.2  ...             10.30   \n",
       "4             28.34              148.3  ...             12.61   \n",
       "5             37.98              220.6  ...             18.75   \n",
       "\n",
       "   total night minutes  total night calls  total night charge  \\\n",
       "0                244.7                 91               11.01   \n",
       "1                254.4                103               11.45   \n",
       "2                162.6                104                7.32   \n",
       "4                186.9                121                8.41   \n",
       "5                203.9                118                9.18   \n",
       "\n",
       "   total intl minutes  total intl calls  total intl charge  \\\n",
       "0                10.0                 3               2.70   \n",
       "1                13.7                 3               3.70   \n",
       "2                12.2                 5               3.29   \n",
       "4                10.1                 3               2.73   \n",
       "5                 6.3                 6               1.70   \n",
       "\n",
       "   customer service calls  churn  total_expenditure  \n",
       "0                       1  False              75.56  \n",
       "1                       1  False              59.24  \n",
       "2                       0  False              62.29  \n",
       "4                       3  False              52.09  \n",
       "5                       0  False              67.61  \n",
       "\n",
       "[5 rows x 21 columns]"
      ]
     },
     "execution_count": 814,
     "metadata": {},
     "output_type": "execute_result"
    }
   ],
   "source": [
    "df['total_expenditure']=df['total day charge']+df['total eve charge']+df['total night charge']+df['total intl charge']\n",
    "df.head()"
   ]
  },
  {
   "cell_type": "markdown",
   "metadata": {},
   "source": [
    "Then converting the categorical data into interger value using One hot encoding"
   ]
  },
  {
   "cell_type": "markdown",
   "metadata": {},
   "source": [
    "## 3.5.Exploratory Data Analysis"
   ]
  },
  {
   "cell_type": "markdown",
   "metadata": {},
   "source": [
    "### 1.The distribution of expenditure in area codes"
   ]
  },
  {
   "cell_type": "code",
   "execution_count": 815,
   "metadata": {},
   "outputs": [
    {
     "data": {
      "text/plain": [
       "Text(0.5, 1.0, 'Distribution of Revenue by Area code')"
      ]
     },
     "execution_count": 815,
     "metadata": {},
     "output_type": "execute_result"
    },
    {
     "data": {
      "image/png": "[encoded data removed]",
      "text/plain": [
       "<Figure size 1080x432 with 1 Axes>"
      ]
     },
     "metadata": {
      "needs_background": "light"
     },
     "output_type": "display_data"
    }
   ],
   "source": [
    "area_code=df[['area code','total_expenditure']]\n",
    "area_code_revenue=area_code.groupby(['area code']).sum().reset_index()\n",
    "revenue=area_code_revenue['total_expenditure']\n",
    "df_label=[str(x) for x in area_code_revenue['area code']]\n",
    "fig,ax=plt.subplots(figsize=(15,6))\n",
    "ax.bar(df_label,revenue,color='orange')\n",
    "ax.set_xlabel('Area code')\n",
    "ax.set_ylabel('count')\n",
    "ax.set_title('Distribution of Revenue by Area code')"
   ]
  },
  {
   "cell_type": "markdown",
   "metadata": {},
   "source": [
    "The area code 415 has the highest expenditure"
   ]
  },
  {
   "cell_type": "markdown",
   "metadata": {},
   "source": [
    "### 2.How the Expenses are allocated according to the time of the day"
   ]
  },
  {
   "cell_type": "code",
   "execution_count": 816,
   "metadata": {},
   "outputs": [
    {
     "data": {
      "text/plain": [
       "Text(0.5, 1.0, 'Distribution of Revenue by time of the day')"
      ]
     },
     "execution_count": 816,
     "metadata": {},
     "output_type": "execute_result"
    },
    {
     "data": {
      "image/png": "[encoded data removed]",
      "text/plain": [
       "<Figure size 720x432 with 1 Axes>"
      ]
     },
     "metadata": {
      "needs_background": "light"
     },
     "output_type": "display_data"
    }
   ],
   "source": [
    "#calculate total revenue for each time of the day\n",
    "revenue_by_time=df[['total day charge','total eve charge','total night charge','total intl charge']].sum()\n",
    "#plot horizontal bar chart\n",
    "fig,ax=plt.subplots(figsize=(10,6))\n",
    "revenue_by_time.sort_values().plot(kind='barh',color='blue',ax=ax)\n",
    "ax.set_xlabel('Revenue')\n",
    "ax.set_ylabel('Time of the Day')\n",
    "ax.set_title('Distribution of Revenue by time of the day')"
   ]
  },
  {
   "cell_type": "markdown",
   "metadata": {},
   "source": [
    "According to our distribution , total day charge brings in the most revenue more than 80,000 while the rest of the day is less than 80,000"
   ]
  },
  {
   "cell_type": "markdown",
   "metadata": {},
   "source": [
    "### 3.Distribution of Revenue by State"
   ]
  },
  {
   "cell_type": "code",
   "execution_count": 817,
   "metadata": {},
   "outputs": [
    {
     "data": {
      "text/plain": [
       "Text(0.5, 1.0, 'Distribution of Revenue by State')"
      ]
     },
     "execution_count": 817,
     "metadata": {},
     "output_type": "execute_result"
    },
    {
     "data": {
      "image/png": "[encoded data removed]",
      "text/plain": [
       "<Figure size 1080x432 with 1 Axes>"
      ]
     },
     "metadata": {
      "needs_background": "light"
     },
     "output_type": "display_data"
    }
   ],
   "source": [
    "state_expenditure=df[['state','total_expenditure']]\n",
    "\n",
    "state_expenditure=state_expenditure.groupby(['state']).sum().reset_index().nlargest(10,'total_expenditure')\n",
    "revenue=state_expenditure['total_expenditure']\n",
    "fig,ax=plt.subplots(figsize=(15,6))\n",
    "df_label=state_expenditure['state']\n",
    "ax.bar(df_label,revenue,color='orange')\n",
    "ax.set_xlabel('State')\n",
    "ax.set_ylabel('count')\n",
    "ax.set_title('Distribution of Revenue by State')"
   ]
  },
  {
   "cell_type": "markdown",
   "metadata": {},
   "source": [
    "West Virginia is the state with the  highest revenue with over 6000 "
   ]
  },
  {
   "cell_type": "markdown",
   "metadata": {},
   "source": [
    "The rate at which the customers stopped doing business with the company"
   ]
  },
  {
   "cell_type": "code",
   "execution_count": 818,
   "metadata": {},
   "outputs": [
    {
     "data": {
      "image/png": "[encoded data removed]",
      "text/plain": [
       "<Figure size 432x288 with 1 Axes>"
      ]
     },
     "metadata": {
      "needs_background": "light"
     },
     "output_type": "display_data"
    }
   ],
   "source": [
    "df['churn'].value_counts().plot(kind='bar',color=['skyblue','salmon'])\n",
    "plt.title('Distribution of churn of boolean column',fontsize=16,fontweight='bold')\n",
    "plt.xlabel('Boolean values',fontsize=12)\n",
    "plt.ylabel('Count',fontsize=12)\n",
    "plt.xticks(rotation=0)\n",
    "plt.show()"
   ]
  },
  {
   "cell_type": "code",
   "execution_count": 819,
   "metadata": {},
   "outputs": [
    {
     "data": {
      "image/png": "[encoded data removed]",
      "text/plain": [
       "<Figure size 432x288 with 1 Axes>"
      ]
     },
     "metadata": {
      "needs_background": "light"
     },
     "output_type": "display_data"
    }
   ],
   "source": [
    "df['international plan'].value_counts().plot(kind='bar',color=['skyblue','salmon'])\n",
    "plt.title('Distribution of international plan',fontsize=16,fontweight='bold')\n",
    "plt.xlabel('Boolean values',fontsize=12)\n",
    "plt.ylabel('Count',fontsize=12)\n",
    "plt.xticks(rotation=0)\n",
    "plt.show()"
   ]
  },
  {
   "cell_type": "markdown",
   "metadata": {},
   "source": [
    "Customers who do not have international plan are more likely to churn "
   ]
  },
  {
   "cell_type": "code",
   "execution_count": 820,
   "metadata": {},
   "outputs": [
    {
     "data": {
      "image/png": "[encoded data removed]",
      "text/plain": [
       "<Figure size 432x288 with 1 Axes>"
      ]
     },
     "metadata": {
      "needs_background": "light"
     },
     "output_type": "display_data"
    }
   ],
   "source": [
    "df['voice mail plan'].value_counts().plot(kind='bar',color=['skyblue','salmon'])\n",
    "plt.title('Distribution of voice mail plan',fontsize=16,fontweight='bold')\n",
    "plt.xlabel('voice mail plan',fontsize=12)\n",
    "plt.ylabel('Count',fontsize=12)\n",
    "plt.xticks(rotation=0)\n",
    "plt.show()"
   ]
  },
  {
   "cell_type": "code",
   "execution_count": 821,
   "metadata": {
    "scrolled": true
   },
   "outputs": [
    {
     "data": {
      "image/png": "[encoded data removed]",
      "text/plain": [
       "<Figure size 432x288 with 1 Axes>"
      ]
     },
     "metadata": {
      "needs_background": "light"
     },
     "output_type": "display_data"
    }
   ],
   "source": [
    "sns.countplot(x='voice mail plan',hue='churn',data=df,palette='pastel')\n",
    "plt.title('Churn by voice mail plan',fontsize=16,fontweight='bold')\n",
    "plt.xlabel('Voice Mail Plan',fontsize=12)\n",
    "plt.ylabel('Count',fontsize=12)\n",
    "plt.legend(title='Churn',loc='upper right',labels=['Not Churned','Churned'])\n",
    "plt.show()"
   ]
  },
  {
   "cell_type": "markdown",
   "metadata": {},
   "source": [
    "Customers who do not have voice mail plan are more likely to churn "
   ]
  },
  {
   "cell_type": "code",
   "execution_count": 822,
   "metadata": {},
   "outputs": [
    {
     "data": {
      "image/png": "[encoded data removed]",
      "text/plain": [
       "<Figure size 1080x360 with 4 Axes>"
      ]
     },
     "metadata": {
      "needs_background": "light"
     },
     "output_type": "display_data"
    }
   ],
   "source": [
    "num_column=['churn','international plan','account length','area code']\n",
    "fig,ax=plt.subplots(1,len(num_column),figsize=(15,5))\n",
    "for i , num_column in enumerate(num_column):\n",
    "    ax[i].hist(df[df['churn']==1][num_column],bins=20,alpha=0.5,label='Churn',color='orange')\n",
    "    ax[i].hist(df[df['churn']==0][num_column],bins=20,alpha=0.5,label='No Churn',color='blue')\n",
    "    ax[i].set_xlabel(num_column)\n",
    "    ax[i].set_ylabel('Count')\n",
    "    ax[i].set_title(f'Histogram of {num_column} by churn')\n",
    "    ax[i].legend()\n",
    "    "
   ]
  },
  {
   "cell_type": "code",
   "execution_count": 823,
   "metadata": {},
   "outputs": [
    {
     "data": {
      "image/png": "[encoded data removed]",
      "text/plain": [
       "<Figure size 720x576 with 2 Axes>"
      ]
     },
     "metadata": {
      "needs_background": "light"
     },
     "output_type": "display_data"
    }
   ],
   "source": [
    " #Calculate the correlations\n",
    "correlations = df.corr()\n",
    "\n",
    "# Create a heatmap\n",
    "plt.figure(figsize=(10, 8))\n",
    "sns.heatmap(round(correlations, 2), annot=True, linewidths=.7)\n",
    "plt.title('Correlation Heatmap')\n",
    "plt.show()"
   ]
  },
  {
   "cell_type": "code",
   "execution_count": null,
   "metadata": {},
   "outputs": [],
   "source": []
  },
  {
   "cell_type": "markdown",
   "metadata": {},
   "source": [
    "### 3.6 Dealing with Multicollinearity"
   ]
  },
  {
   "cell_type": "code",
   "execution_count": 824,
   "metadata": {},
   "outputs": [
    {
     "data": {
      "text/html": [
       "<div>\n",
       "<style scoped>\n",
       "    .dataframe tbody tr th:only-of-type {\n",
       "        vertical-align: middle;\n",
       "    }\n",
       "\n",
       "    .dataframe tbody tr th {\n",
       "        vertical-align: top;\n",
       "    }\n",
       "\n",
       "    .dataframe thead th {\n",
       "        text-align: right;\n",
       "    }\n",
       "</style>\n",
       "<table border=\"1\" class=\"dataframe\">\n",
       "  <thead>\n",
       "    <tr style=\"text-align: right;\">\n",
       "      <th></th>\n",
       "      <th>correlation_coefficient</th>\n",
       "    </tr>\n",
       "    <tr>\n",
       "      <th>variable_pairs</th>\n",
       "      <th></th>\n",
       "    </tr>\n",
       "  </thead>\n",
       "  <tbody>\n",
       "    <tr>\n",
       "      <th>(total day minutes, total day charge)</th>\n",
       "      <td>1.000000</td>\n",
       "    </tr>\n",
       "    <tr>\n",
       "      <th>(total eve minutes, total eve charge)</th>\n",
       "      <td>1.000000</td>\n",
       "    </tr>\n",
       "    <tr>\n",
       "      <th>(total night charge, total night minutes)</th>\n",
       "      <td>0.999999</td>\n",
       "    </tr>\n",
       "    <tr>\n",
       "      <th>(total intl charge, total intl minutes)</th>\n",
       "      <td>0.999991</td>\n",
       "    </tr>\n",
       "    <tr>\n",
       "      <th>(total day charge, total_expenditure)</th>\n",
       "      <td>0.884607</td>\n",
       "    </tr>\n",
       "    <tr>\n",
       "      <th>(total day minutes, total_expenditure)</th>\n",
       "      <td>0.884606</td>\n",
       "    </tr>\n",
       "  </tbody>\n",
       "</table>\n",
       "</div>"
      ],
      "text/plain": [
       "                                           correlation_coefficient\n",
       "variable_pairs                                                    \n",
       "(total day minutes, total day charge)                     1.000000\n",
       "(total eve minutes, total eve charge)                     1.000000\n",
       "(total night charge, total night minutes)                 0.999999\n",
       "(total intl charge, total intl minutes)                   0.999991\n",
       "(total day charge, total_expenditure)                     0.884607\n",
       "(total day minutes, total_expenditure)                    0.884606"
      ]
     },
     "execution_count": 824,
     "metadata": {},
     "output_type": "execute_result"
    }
   ],
   "source": [
    "#Identifying the variables that are highly correlated\n",
    "highly_correlated_variables_df = (\n",
    "    df\n",
    "    .corr()\n",
    "    .abs()\n",
    "    .stack()\n",
    "    .reset_index()\n",
    "    .sort_values(0, ascending=False)\n",
    ")\n",
    "\n",
    "highly_correlated_variables_df['variable_pairs'] = list(zip(highly_correlated_variables_df.level_0, highly_correlated_variables_df.level_1))\n",
    "highly_correlated_variables_df = highly_correlated_variables_df.set_index('variable_pairs').drop(columns=['level_1', 'level_0'])\n",
    "highly_correlated_variables_df.columns = ['correlation_coefficient']\n",
    "highly_correlated_variables_df = highly_correlated_variables_df.drop_duplicates()\n",
    "\n",
    "filter_condition = (highly_correlated_variables_df.correlation_coefficient > 0.75) & (highly_correlated_variables_df.correlation_coefficient < 1)\n",
    "highly_correlated_variables_df[filter_condition]"
   ]
  },
  {
   "cell_type": "markdown",
   "metadata": {},
   "source": [
    "To remove multicollinearity we can create a new feature from the correlated values.From our dataset we can see that total eve minutes and total eve charge are the same.Hence we will drop one of each.\n",
    "we'll drop 'total day minutes','total eve minutes','total night minutes','total intl minutes'\n",
    "And we wont include the state because it is categorical"
   ]
  },
  {
   "cell_type": "markdown",
   "metadata": {},
   "source": [
    "# 4.Modelling\n",
    "\n",
    "1.Scalling and Transformation\n",
    "\n",
    "2.Baseline Model(Logistic Regression)\n",
    "\n",
    "3.Complex model(Decision Trees, random Forest)"
   ]
  },
  {
   "cell_type": "markdown",
   "metadata": {},
   "source": [
    "#### Define X and y "
   ]
  },
  {
   "cell_type": "code",
   "execution_count": 825,
   "metadata": {},
   "outputs": [
    {
     "data": {
      "text/html": [
       "<div>\n",
       "<style scoped>\n",
       "    .dataframe tbody tr th:only-of-type {\n",
       "        vertical-align: middle;\n",
       "    }\n",
       "\n",
       "    .dataframe tbody tr th {\n",
       "        vertical-align: top;\n",
       "    }\n",
       "\n",
       "    .dataframe thead th {\n",
       "        text-align: right;\n",
       "    }\n",
       "</style>\n",
       "<table border=\"1\" class=\"dataframe\">\n",
       "  <thead>\n",
       "    <tr style=\"text-align: right;\">\n",
       "      <th></th>\n",
       "      <th>account length</th>\n",
       "      <th>area code</th>\n",
       "      <th>international plan</th>\n",
       "      <th>customer service calls</th>\n",
       "      <th>total intl charge</th>\n",
       "      <th>total intl calls</th>\n",
       "      <th>total night charge</th>\n",
       "      <th>total night calls</th>\n",
       "      <th>total eve charge</th>\n",
       "      <th>total eve calls</th>\n",
       "      <th>total day charge</th>\n",
       "      <th>total day calls</th>\n",
       "      <th>number vmail messages</th>\n",
       "      <th>voice mail plan</th>\n",
       "    </tr>\n",
       "  </thead>\n",
       "  <tbody>\n",
       "    <tr>\n",
       "      <th>0</th>\n",
       "      <td>128</td>\n",
       "      <td>415</td>\n",
       "      <td>no</td>\n",
       "      <td>1</td>\n",
       "      <td>2.70</td>\n",
       "      <td>3</td>\n",
       "      <td>11.01</td>\n",
       "      <td>91</td>\n",
       "      <td>16.78</td>\n",
       "      <td>99</td>\n",
       "      <td>45.07</td>\n",
       "      <td>110</td>\n",
       "      <td>25</td>\n",
       "      <td>yes</td>\n",
       "    </tr>\n",
       "    <tr>\n",
       "      <th>1</th>\n",
       "      <td>107</td>\n",
       "      <td>415</td>\n",
       "      <td>no</td>\n",
       "      <td>1</td>\n",
       "      <td>3.70</td>\n",
       "      <td>3</td>\n",
       "      <td>11.45</td>\n",
       "      <td>103</td>\n",
       "      <td>16.62</td>\n",
       "      <td>103</td>\n",
       "      <td>27.47</td>\n",
       "      <td>123</td>\n",
       "      <td>26</td>\n",
       "      <td>yes</td>\n",
       "    </tr>\n",
       "    <tr>\n",
       "      <th>2</th>\n",
       "      <td>137</td>\n",
       "      <td>415</td>\n",
       "      <td>no</td>\n",
       "      <td>0</td>\n",
       "      <td>3.29</td>\n",
       "      <td>5</td>\n",
       "      <td>7.32</td>\n",
       "      <td>104</td>\n",
       "      <td>10.30</td>\n",
       "      <td>110</td>\n",
       "      <td>41.38</td>\n",
       "      <td>114</td>\n",
       "      <td>0</td>\n",
       "      <td>no</td>\n",
       "    </tr>\n",
       "    <tr>\n",
       "      <th>4</th>\n",
       "      <td>75</td>\n",
       "      <td>415</td>\n",
       "      <td>yes</td>\n",
       "      <td>3</td>\n",
       "      <td>2.73</td>\n",
       "      <td>3</td>\n",
       "      <td>8.41</td>\n",
       "      <td>121</td>\n",
       "      <td>12.61</td>\n",
       "      <td>122</td>\n",
       "      <td>28.34</td>\n",
       "      <td>113</td>\n",
       "      <td>0</td>\n",
       "      <td>no</td>\n",
       "    </tr>\n",
       "    <tr>\n",
       "      <th>5</th>\n",
       "      <td>118</td>\n",
       "      <td>510</td>\n",
       "      <td>yes</td>\n",
       "      <td>0</td>\n",
       "      <td>1.70</td>\n",
       "      <td>6</td>\n",
       "      <td>9.18</td>\n",
       "      <td>118</td>\n",
       "      <td>18.75</td>\n",
       "      <td>101</td>\n",
       "      <td>37.98</td>\n",
       "      <td>98</td>\n",
       "      <td>0</td>\n",
       "      <td>no</td>\n",
       "    </tr>\n",
       "    <tr>\n",
       "      <th>...</th>\n",
       "      <td>...</td>\n",
       "      <td>...</td>\n",
       "      <td>...</td>\n",
       "      <td>...</td>\n",
       "      <td>...</td>\n",
       "      <td>...</td>\n",
       "      <td>...</td>\n",
       "      <td>...</td>\n",
       "      <td>...</td>\n",
       "      <td>...</td>\n",
       "      <td>...</td>\n",
       "      <td>...</td>\n",
       "      <td>...</td>\n",
       "      <td>...</td>\n",
       "    </tr>\n",
       "    <tr>\n",
       "      <th>3328</th>\n",
       "      <td>192</td>\n",
       "      <td>415</td>\n",
       "      <td>no</td>\n",
       "      <td>2</td>\n",
       "      <td>2.67</td>\n",
       "      <td>6</td>\n",
       "      <td>12.56</td>\n",
       "      <td>83</td>\n",
       "      <td>18.32</td>\n",
       "      <td>126</td>\n",
       "      <td>26.55</td>\n",
       "      <td>77</td>\n",
       "      <td>36</td>\n",
       "      <td>yes</td>\n",
       "    </tr>\n",
       "    <tr>\n",
       "      <th>3329</th>\n",
       "      <td>68</td>\n",
       "      <td>415</td>\n",
       "      <td>no</td>\n",
       "      <td>3</td>\n",
       "      <td>2.59</td>\n",
       "      <td>4</td>\n",
       "      <td>8.61</td>\n",
       "      <td>123</td>\n",
       "      <td>13.04</td>\n",
       "      <td>55</td>\n",
       "      <td>39.29</td>\n",
       "      <td>57</td>\n",
       "      <td>0</td>\n",
       "      <td>no</td>\n",
       "    </tr>\n",
       "    <tr>\n",
       "      <th>3330</th>\n",
       "      <td>28</td>\n",
       "      <td>510</td>\n",
       "      <td>no</td>\n",
       "      <td>2</td>\n",
       "      <td>3.81</td>\n",
       "      <td>6</td>\n",
       "      <td>8.64</td>\n",
       "      <td>91</td>\n",
       "      <td>24.55</td>\n",
       "      <td>58</td>\n",
       "      <td>30.74</td>\n",
       "      <td>109</td>\n",
       "      <td>0</td>\n",
       "      <td>no</td>\n",
       "    </tr>\n",
       "    <tr>\n",
       "      <th>3331</th>\n",
       "      <td>184</td>\n",
       "      <td>510</td>\n",
       "      <td>yes</td>\n",
       "      <td>2</td>\n",
       "      <td>1.35</td>\n",
       "      <td>10</td>\n",
       "      <td>6.26</td>\n",
       "      <td>137</td>\n",
       "      <td>13.57</td>\n",
       "      <td>84</td>\n",
       "      <td>36.35</td>\n",
       "      <td>105</td>\n",
       "      <td>0</td>\n",
       "      <td>no</td>\n",
       "    </tr>\n",
       "    <tr>\n",
       "      <th>3332</th>\n",
       "      <td>74</td>\n",
       "      <td>415</td>\n",
       "      <td>no</td>\n",
       "      <td>0</td>\n",
       "      <td>3.70</td>\n",
       "      <td>4</td>\n",
       "      <td>10.86</td>\n",
       "      <td>77</td>\n",
       "      <td>22.60</td>\n",
       "      <td>82</td>\n",
       "      <td>39.85</td>\n",
       "      <td>113</td>\n",
       "      <td>25</td>\n",
       "      <td>yes</td>\n",
       "    </tr>\n",
       "  </tbody>\n",
       "</table>\n",
       "<p>2797 rows × 14 columns</p>\n",
       "</div>"
      ],
      "text/plain": [
       "      account length  area code international plan  customer service calls  \\\n",
       "0                128        415                 no                       1   \n",
       "1                107        415                 no                       1   \n",
       "2                137        415                 no                       0   \n",
       "4                 75        415                yes                       3   \n",
       "5                118        510                yes                       0   \n",
       "...              ...        ...                ...                     ...   \n",
       "3328             192        415                 no                       2   \n",
       "3329              68        415                 no                       3   \n",
       "3330              28        510                 no                       2   \n",
       "3331             184        510                yes                       2   \n",
       "3332              74        415                 no                       0   \n",
       "\n",
       "      total intl charge  total intl calls  total night charge  \\\n",
       "0                  2.70                 3               11.01   \n",
       "1                  3.70                 3               11.45   \n",
       "2                  3.29                 5                7.32   \n",
       "4                  2.73                 3                8.41   \n",
       "5                  1.70                 6                9.18   \n",
       "...                 ...               ...                 ...   \n",
       "3328               2.67                 6               12.56   \n",
       "3329               2.59                 4                8.61   \n",
       "3330               3.81                 6                8.64   \n",
       "3331               1.35                10                6.26   \n",
       "3332               3.70                 4               10.86   \n",
       "\n",
       "      total night calls  total eve charge  total eve calls  total day charge  \\\n",
       "0                    91             16.78               99             45.07   \n",
       "1                   103             16.62              103             27.47   \n",
       "2                   104             10.30              110             41.38   \n",
       "4                   121             12.61              122             28.34   \n",
       "5                   118             18.75              101             37.98   \n",
       "...                 ...               ...              ...               ...   \n",
       "3328                 83             18.32              126             26.55   \n",
       "3329                123             13.04               55             39.29   \n",
       "3330                 91             24.55               58             30.74   \n",
       "3331                137             13.57               84             36.35   \n",
       "3332                 77             22.60               82             39.85   \n",
       "\n",
       "      total day calls  number vmail messages voice mail plan  \n",
       "0                 110                     25             yes  \n",
       "1                 123                     26             yes  \n",
       "2                 114                      0              no  \n",
       "4                 113                      0              no  \n",
       "5                  98                      0              no  \n",
       "...               ...                    ...             ...  \n",
       "3328               77                     36             yes  \n",
       "3329               57                      0              no  \n",
       "3330              109                      0              no  \n",
       "3331              105                      0              no  \n",
       "3332              113                     25             yes  \n",
       "\n",
       "[2797 rows x 14 columns]"
      ]
     },
     "execution_count": 825,
     "metadata": {},
     "output_type": "execute_result"
    }
   ],
   "source": [
    "X=df[['account length','area code','international plan','customer service calls','total intl charge','total intl calls','total night charge','total night calls','total eve charge','total eve calls','total day charge','total day calls','number vmail messages','voice mail plan']]\n",
    "X"
   ]
  },
  {
   "cell_type": "code",
   "execution_count": 826,
   "metadata": {},
   "outputs": [
    {
     "data": {
      "text/plain": [
       "0       False\n",
       "1       False\n",
       "2       False\n",
       "4       False\n",
       "5       False\n",
       "        ...  \n",
       "3328    False\n",
       "3329    False\n",
       "3330    False\n",
       "3331    False\n",
       "3332    False\n",
       "Name: churn, Length: 2797, dtype: bool"
      ]
     },
     "execution_count": 826,
     "metadata": {},
     "output_type": "execute_result"
    }
   ],
   "source": [
    "y=df['churn']\n",
    "y"
   ]
  },
  {
   "cell_type": "code",
   "execution_count": 827,
   "metadata": {},
   "outputs": [],
   "source": [
    "#Split our data into train and test set\n",
    "X_train,X_test,y_train,y_test=train_test_split(X,y,random_state=42,test_size=0.3)"
   ]
  },
  {
   "cell_type": "markdown",
   "metadata": {},
   "source": [
    "### 4.1 Scalling And Transformation"
   ]
  },
  {
   "cell_type": "code",
   "execution_count": null,
   "metadata": {},
   "outputs": [],
   "source": [
    "\n",
    "\n"
   ]
  },
  {
   "cell_type": "code",
   "execution_count": 828,
   "metadata": {},
   "outputs": [
    {
     "data": {
      "text/html": [
       "<div>\n",
       "<style scoped>\n",
       "    .dataframe tbody tr th:only-of-type {\n",
       "        vertical-align: middle;\n",
       "    }\n",
       "\n",
       "    .dataframe tbody tr th {\n",
       "        vertical-align: top;\n",
       "    }\n",
       "\n",
       "    .dataframe thead th {\n",
       "        text-align: right;\n",
       "    }\n",
       "</style>\n",
       "<table border=\"1\" class=\"dataframe\">\n",
       "  <thead>\n",
       "    <tr style=\"text-align: right;\">\n",
       "      <th></th>\n",
       "      <th>account length</th>\n",
       "      <th>area code</th>\n",
       "      <th>customer service calls</th>\n",
       "      <th>total intl charge</th>\n",
       "      <th>total intl calls</th>\n",
       "      <th>total night charge</th>\n",
       "      <th>total night calls</th>\n",
       "      <th>total eve charge</th>\n",
       "      <th>total eve calls</th>\n",
       "      <th>total day charge</th>\n",
       "      <th>total day calls</th>\n",
       "      <th>number vmail messages</th>\n",
       "      <th>international plan_yes</th>\n",
       "      <th>voice mail plan_yes</th>\n",
       "    </tr>\n",
       "  </thead>\n",
       "  <tbody>\n",
       "    <tr>\n",
       "      <th>375</th>\n",
       "      <td>-0.331629</td>\n",
       "      <td>-0.529409</td>\n",
       "      <td>-1.328222</td>\n",
       "      <td>0.102978</td>\n",
       "      <td>0.320009</td>\n",
       "      <td>-1.368238</td>\n",
       "      <td>-0.940409</td>\n",
       "      <td>-0.443565</td>\n",
       "      <td>0.722515</td>\n",
       "      <td>0.682773</td>\n",
       "      <td>0.650858</td>\n",
       "      <td>0.982189</td>\n",
       "      <td>0</td>\n",
       "      <td>1</td>\n",
       "    </tr>\n",
       "    <tr>\n",
       "      <th>65</th>\n",
       "      <td>-1.538898</td>\n",
       "      <td>-0.529409</td>\n",
       "      <td>0.746264</td>\n",
       "      <td>-1.617995</td>\n",
       "      <td>0.320009</td>\n",
       "      <td>0.272089</td>\n",
       "      <td>0.098561</td>\n",
       "      <td>-0.655218</td>\n",
       "      <td>-0.636461</td>\n",
       "      <td>-0.577865</td>\n",
       "      <td>-1.402610</td>\n",
       "      <td>2.469571</td>\n",
       "      <td>0</td>\n",
       "      <td>1</td>\n",
       "    </tr>\n",
       "    <tr>\n",
       "      <th>2325</th>\n",
       "      <td>0.259163</td>\n",
       "      <td>-0.529409</td>\n",
       "      <td>0.746264</td>\n",
       "      <td>-0.200723</td>\n",
       "      <td>0.320009</td>\n",
       "      <td>0.808174</td>\n",
       "      <td>1.137531</td>\n",
       "      <td>0.709824</td>\n",
       "      <td>1.140662</td>\n",
       "      <td>1.775701</td>\n",
       "      <td>0.387593</td>\n",
       "      <td>-0.579562</td>\n",
       "      <td>0</td>\n",
       "      <td>0</td>\n",
       "    </tr>\n",
       "    <tr>\n",
       "      <th>2111</th>\n",
       "      <td>0.670148</td>\n",
       "      <td>-0.529409</td>\n",
       "      <td>-1.328222</td>\n",
       "      <td>1.592559</td>\n",
       "      <td>-1.614376</td>\n",
       "      <td>2.650105</td>\n",
       "      <td>-1.771584</td>\n",
       "      <td>-1.513720</td>\n",
       "      <td>0.356637</td>\n",
       "      <td>-1.427670</td>\n",
       "      <td>-0.402202</td>\n",
       "      <td>-0.579562</td>\n",
       "      <td>0</td>\n",
       "      <td>0</td>\n",
       "    </tr>\n",
       "    <tr>\n",
       "      <th>1924</th>\n",
       "      <td>0.618775</td>\n",
       "      <td>-0.529409</td>\n",
       "      <td>-0.290979</td>\n",
       "      <td>0.377755</td>\n",
       "      <td>-1.130780</td>\n",
       "      <td>2.159840</td>\n",
       "      <td>0.046613</td>\n",
       "      <td>1.665828</td>\n",
       "      <td>0.983857</td>\n",
       "      <td>-0.889648</td>\n",
       "      <td>-0.981386</td>\n",
       "      <td>-0.579562</td>\n",
       "      <td>0</td>\n",
       "      <td>0</td>\n",
       "    </tr>\n",
       "    <tr>\n",
       "      <th>...</th>\n",
       "      <td>...</td>\n",
       "      <td>...</td>\n",
       "      <td>...</td>\n",
       "      <td>...</td>\n",
       "      <td>...</td>\n",
       "      <td>...</td>\n",
       "      <td>...</td>\n",
       "      <td>...</td>\n",
       "      <td>...</td>\n",
       "      <td>...</td>\n",
       "      <td>...</td>\n",
       "      <td>...</td>\n",
       "      <td>...</td>\n",
       "      <td>...</td>\n",
       "    </tr>\n",
       "    <tr>\n",
       "      <th>1962</th>\n",
       "      <td>-0.151822</td>\n",
       "      <td>-0.529409</td>\n",
       "      <td>1.783507</td>\n",
       "      <td>0.030668</td>\n",
       "      <td>-0.647184</td>\n",
       "      <td>1.055597</td>\n",
       "      <td>-0.420924</td>\n",
       "      <td>0.807327</td>\n",
       "      <td>2.708712</td>\n",
       "      <td>-1.345504</td>\n",
       "      <td>-1.139345</td>\n",
       "      <td>-0.579562</td>\n",
       "      <td>0</td>\n",
       "      <td>0</td>\n",
       "    </tr>\n",
       "    <tr>\n",
       "      <th>1336</th>\n",
       "      <td>0.618775</td>\n",
       "      <td>-0.529409</td>\n",
       "      <td>1.783507</td>\n",
       "      <td>0.305445</td>\n",
       "      <td>0.803605</td>\n",
       "      <td>-0.305233</td>\n",
       "      <td>-1.511842</td>\n",
       "      <td>0.248468</td>\n",
       "      <td>-0.113778</td>\n",
       "      <td>1.400886</td>\n",
       "      <td>-0.823427</td>\n",
       "      <td>-0.579562</td>\n",
       "      <td>0</td>\n",
       "      <td>0</td>\n",
       "    </tr>\n",
       "    <tr>\n",
       "      <th>1378</th>\n",
       "      <td>-1.076539</td>\n",
       "      <td>-0.529409</td>\n",
       "      <td>-0.290979</td>\n",
       "      <td>-0.562272</td>\n",
       "      <td>-0.163587</td>\n",
       "      <td>-0.154029</td>\n",
       "      <td>0.254407</td>\n",
       "      <td>1.423260</td>\n",
       "      <td>-0.009241</td>\n",
       "      <td>-0.679166</td>\n",
       "      <td>-0.244243</td>\n",
       "      <td>2.618309</td>\n",
       "      <td>1</td>\n",
       "      <td>1</td>\n",
       "    </tr>\n",
       "    <tr>\n",
       "      <th>1569</th>\n",
       "      <td>-0.691241</td>\n",
       "      <td>-0.529409</td>\n",
       "      <td>-1.328222</td>\n",
       "      <td>0.464527</td>\n",
       "      <td>-0.647184</td>\n",
       "      <td>0.601987</td>\n",
       "      <td>0.514149</td>\n",
       "      <td>-0.524421</td>\n",
       "      <td>-0.845534</td>\n",
       "      <td>0.307958</td>\n",
       "      <td>0.176981</td>\n",
       "      <td>1.725880</td>\n",
       "      <td>0</td>\n",
       "      <td>1</td>\n",
       "    </tr>\n",
       "    <tr>\n",
       "      <th>1042</th>\n",
       "      <td>-0.228882</td>\n",
       "      <td>1.698612</td>\n",
       "      <td>-1.328222</td>\n",
       "      <td>-0.171799</td>\n",
       "      <td>-0.647184</td>\n",
       "      <td>0.821919</td>\n",
       "      <td>1.708965</td>\n",
       "      <td>-0.374600</td>\n",
       "      <td>1.454272</td>\n",
       "      <td>-1.622394</td>\n",
       "      <td>0.598205</td>\n",
       "      <td>1.205296</td>\n",
       "      <td>1</td>\n",
       "      <td>1</td>\n",
       "    </tr>\n",
       "  </tbody>\n",
       "</table>\n",
       "<p>1957 rows × 14 columns</p>\n",
       "</div>"
      ],
      "text/plain": [
       "      account length  area code  customer service calls  total intl charge  \\\n",
       "375        -0.331629  -0.529409               -1.328222           0.102978   \n",
       "65         -1.538898  -0.529409                0.746264          -1.617995   \n",
       "2325        0.259163  -0.529409                0.746264          -0.200723   \n",
       "2111        0.670148  -0.529409               -1.328222           1.592559   \n",
       "1924        0.618775  -0.529409               -0.290979           0.377755   \n",
       "...              ...        ...                     ...                ...   \n",
       "1962       -0.151822  -0.529409                1.783507           0.030668   \n",
       "1336        0.618775  -0.529409                1.783507           0.305445   \n",
       "1378       -1.076539  -0.529409               -0.290979          -0.562272   \n",
       "1569       -0.691241  -0.529409               -1.328222           0.464527   \n",
       "1042       -0.228882   1.698612               -1.328222          -0.171799   \n",
       "\n",
       "      total intl calls  total night charge  total night calls  \\\n",
       "375           0.320009           -1.368238          -0.940409   \n",
       "65            0.320009            0.272089           0.098561   \n",
       "2325          0.320009            0.808174           1.137531   \n",
       "2111         -1.614376            2.650105          -1.771584   \n",
       "1924         -1.130780            2.159840           0.046613   \n",
       "...                ...                 ...                ...   \n",
       "1962         -0.647184            1.055597          -0.420924   \n",
       "1336          0.803605           -0.305233          -1.511842   \n",
       "1378         -0.163587           -0.154029           0.254407   \n",
       "1569         -0.647184            0.601987           0.514149   \n",
       "1042         -0.647184            0.821919           1.708965   \n",
       "\n",
       "      total eve charge  total eve calls  total day charge  total day calls  \\\n",
       "375          -0.443565         0.722515          0.682773         0.650858   \n",
       "65           -0.655218        -0.636461         -0.577865        -1.402610   \n",
       "2325          0.709824         1.140662          1.775701         0.387593   \n",
       "2111         -1.513720         0.356637         -1.427670        -0.402202   \n",
       "1924          1.665828         0.983857         -0.889648        -0.981386   \n",
       "...                ...              ...               ...              ...   \n",
       "1962          0.807327         2.708712         -1.345504        -1.139345   \n",
       "1336          0.248468        -0.113778          1.400886        -0.823427   \n",
       "1378          1.423260        -0.009241         -0.679166        -0.244243   \n",
       "1569         -0.524421        -0.845534          0.307958         0.176981   \n",
       "1042         -0.374600         1.454272         -1.622394         0.598205   \n",
       "\n",
       "      number vmail messages  international plan_yes  voice mail plan_yes  \n",
       "375                0.982189                       0                    1  \n",
       "65                 2.469571                       0                    1  \n",
       "2325              -0.579562                       0                    0  \n",
       "2111              -0.579562                       0                    0  \n",
       "1924              -0.579562                       0                    0  \n",
       "...                     ...                     ...                  ...  \n",
       "1962              -0.579562                       0                    0  \n",
       "1336              -0.579562                       0                    0  \n",
       "1378               2.618309                       1                    1  \n",
       "1569               1.725880                       0                    1  \n",
       "1042               1.205296                       1                    1  \n",
       "\n",
       "[1957 rows x 14 columns]"
      ]
     },
     "execution_count": 828,
     "metadata": {},
     "output_type": "execute_result"
    }
   ],
   "source": [
    "#handling categorical features in the dataset by using one hot encoding\n",
    "categorical_columns=['international plan','voice mail plan']\n",
    "numerical_columns=X_train.drop(categorical_columns,axis=1).columns\n",
    "\n",
    "#Separate numerical and categorical features\n",
    "categorical_values=X_train[categorical_columns]\n",
    "numerical_values=X_train[numerical_columns]\n",
    "\n",
    "#One hot encoding categorical features\n",
    "new_cat_df=pd.get_dummies(categorical_values,drop_first=True)\n",
    "\n",
    "# Scale numerical features\n",
    "scaler=StandardScaler()\n",
    "num_scaled=pd.DataFrame(\n",
    "    scaler.fit_transform(numerical_values),\n",
    "    index=numerical_values.index,\n",
    "    columns=numerical_values.columns\n",
    ")\n",
    "X_trained_scaled=num_scaled.join(new_cat_df)\n",
    "X_trained_scaled"
   ]
  },
  {
   "cell_type": "markdown",
   "metadata": {},
   "source": [
    "### 4.2 Base Model "
   ]
  },
  {
   "cell_type": "markdown",
   "metadata": {},
   "source": [
    "Logistic Regression\n",
    "consisting of very large C=1e10 , solver='libliner'"
   ]
  },
  {
   "cell_type": "code",
   "execution_count": null,
   "metadata": {},
   "outputs": [],
   "source": []
  },
  {
   "cell_type": "code",
   "execution_count": null,
   "metadata": {},
   "outputs": [],
   "source": []
  },
  {
   "cell_type": "code",
   "execution_count": null,
   "metadata": {},
   "outputs": [],
   "source": []
  },
  {
   "cell_type": "code",
   "execution_count": 829,
   "metadata": {},
   "outputs": [
    {
     "data": {
      "text/plain": [
       "LogisticRegression(C=10000000000.0, fit_intercept=False, solver='liblinear')"
      ]
     },
     "execution_count": 829,
     "metadata": {},
     "output_type": "execute_result"
    }
   ],
   "source": [
    "#instatiate the model\n",
    "logreg=LogisticRegression(\n",
    "    fit_intercept=False,\n",
    "    solver='liblinear',\n",
    "    C=1e10\n",
    ")\n",
    "#fit the model using Train data\n",
    "logreg.fit(X_trained_scaled,y_train)\n",
    "logreg"
   ]
  },
  {
   "cell_type": "code",
   "execution_count": 830,
   "metadata": {},
   "outputs": [
    {
     "name": "stdout",
     "output_type": "stream",
     "text": [
      "False    1791\n",
      "True      166\n",
      "Name: Residuals (counts), dtype: int64\n",
      "\n",
      "False    0.915176\n",
      "True     0.084824\n",
      "Name: Residuals (proportions), dtype: float64\n"
     ]
    }
   ],
   "source": [
    "# predict our train set\n",
    "y_hat_train = logreg.predict(X_trained_scaled)\n",
    "\n",
    "# let's check for the accuracy of our model by calculating the Residuals Square Sum\n",
    "# get the absolute value of our residuals\n",
    "train_residuals = np.abs(y_train ^ y_hat_train)\n",
    "\n",
    "print(pd.Series(train_residuals, name=\"Residuals (counts)\").value_counts())\n",
    "print()\n",
    "print(pd.Series(train_residuals, name=\"Residuals (proportions)\").value_counts(normalize=True))"
   ]
  },
  {
   "cell_type": "markdown",
   "metadata": {},
   "source": [
    "The model's high accuracy in predicting false instances (92%) but lower accuracy in predicting true instances (8%) may indicate dataset imbalance or potential issues with positive prediction."
   ]
  },
  {
   "cell_type": "code",
   "execution_count": 831,
   "metadata": {},
   "outputs": [
    {
     "data": {
      "text/html": [
       "<div>\n",
       "<style scoped>\n",
       "    .dataframe tbody tr th:only-of-type {\n",
       "        vertical-align: middle;\n",
       "    }\n",
       "\n",
       "    .dataframe tbody tr th {\n",
       "        vertical-align: top;\n",
       "    }\n",
       "\n",
       "    .dataframe thead th {\n",
       "        text-align: right;\n",
       "    }\n",
       "</style>\n",
       "<table border=\"1\" class=\"dataframe\">\n",
       "  <thead>\n",
       "    <tr style=\"text-align: right;\">\n",
       "      <th></th>\n",
       "      <th>account length</th>\n",
       "      <th>area code</th>\n",
       "      <th>customer service calls</th>\n",
       "      <th>total intl charge</th>\n",
       "      <th>total intl calls</th>\n",
       "      <th>total night charge</th>\n",
       "      <th>total night calls</th>\n",
       "      <th>total eve charge</th>\n",
       "      <th>total eve calls</th>\n",
       "      <th>total day charge</th>\n",
       "      <th>total day calls</th>\n",
       "      <th>number vmail messages</th>\n",
       "      <th>international plan_yes</th>\n",
       "      <th>voice mail plan_yes</th>\n",
       "    </tr>\n",
       "  </thead>\n",
       "  <tbody>\n",
       "    <tr>\n",
       "      <th>2463</th>\n",
       "      <td>1.106715</td>\n",
       "      <td>-0.523665</td>\n",
       "      <td>0.634442</td>\n",
       "      <td>-0.061717</td>\n",
       "      <td>-0.119874</td>\n",
       "      <td>0.595615</td>\n",
       "      <td>-0.587902</td>\n",
       "      <td>-0.544574</td>\n",
       "      <td>-0.497069</td>\n",
       "      <td>-0.060452</td>\n",
       "      <td>-0.924571</td>\n",
       "      <td>0.145956</td>\n",
       "      <td>0</td>\n",
       "      <td>1</td>\n",
       "    </tr>\n",
       "    <tr>\n",
       "      <th>1477</th>\n",
       "      <td>0.260863</td>\n",
       "      <td>-0.523665</td>\n",
       "      <td>-0.367309</td>\n",
       "      <td>-0.172817</td>\n",
       "      <td>0.359622</td>\n",
       "      <td>-0.148917</td>\n",
       "      <td>0.542901</td>\n",
       "      <td>2.047744</td>\n",
       "      <td>0.892836</td>\n",
       "      <td>-0.288619</td>\n",
       "      <td>0.078580</td>\n",
       "      <td>-0.625572</td>\n",
       "      <td>0</td>\n",
       "      <td>0</td>\n",
       "    </tr>\n",
       "    <tr>\n",
       "      <th>867</th>\n",
       "      <td>-0.385964</td>\n",
       "      <td>1.722665</td>\n",
       "      <td>-0.367309</td>\n",
       "      <td>-0.783866</td>\n",
       "      <td>0.359622</td>\n",
       "      <td>0.174012</td>\n",
       "      <td>-0.480206</td>\n",
       "      <td>-0.946788</td>\n",
       "      <td>-0.239679</td>\n",
       "      <td>-0.802549</td>\n",
       "      <td>-1.426147</td>\n",
       "      <td>-0.625572</td>\n",
       "      <td>0</td>\n",
       "      <td>0</td>\n",
       "    </tr>\n",
       "    <tr>\n",
       "      <th>3088</th>\n",
       "      <td>-0.037672</td>\n",
       "      <td>-0.523665</td>\n",
       "      <td>-0.367309</td>\n",
       "      <td>-0.520004</td>\n",
       "      <td>-0.599370</td>\n",
       "      <td>0.102250</td>\n",
       "      <td>0.004423</td>\n",
       "      <td>-0.497976</td>\n",
       "      <td>-0.908892</td>\n",
       "      <td>0.558701</td>\n",
       "      <td>1.332519</td>\n",
       "      <td>1.408455</td>\n",
       "      <td>0</td>\n",
       "      <td>1</td>\n",
       "    </tr>\n",
       "    <tr>\n",
       "      <th>2522</th>\n",
       "      <td>0.111596</td>\n",
       "      <td>-0.523665</td>\n",
       "      <td>0.634442</td>\n",
       "      <td>-0.700541</td>\n",
       "      <td>2.277607</td>\n",
       "      <td>-0.081640</td>\n",
       "      <td>-2.095638</td>\n",
       "      <td>0.595850</td>\n",
       "      <td>2.025351</td>\n",
       "      <td>-1.219010</td>\n",
       "      <td>2.084883</td>\n",
       "      <td>-0.625572</td>\n",
       "      <td>0</td>\n",
       "      <td>0</td>\n",
       "    </tr>\n",
       "    <tr>\n",
       "      <th>...</th>\n",
       "      <td>...</td>\n",
       "      <td>...</td>\n",
       "      <td>...</td>\n",
       "      <td>...</td>\n",
       "      <td>...</td>\n",
       "      <td>...</td>\n",
       "      <td>...</td>\n",
       "      <td>...</td>\n",
       "      <td>...</td>\n",
       "      <td>...</td>\n",
       "      <td>...</td>\n",
       "      <td>...</td>\n",
       "      <td>...</td>\n",
       "      <td>...</td>\n",
       "    </tr>\n",
       "    <tr>\n",
       "      <th>1967</th>\n",
       "      <td>0.957447</td>\n",
       "      <td>-0.523665</td>\n",
       "      <td>1.636193</td>\n",
       "      <td>-0.325579</td>\n",
       "      <td>2.757103</td>\n",
       "      <td>-0.606401</td>\n",
       "      <td>1.296769</td>\n",
       "      <td>0.968633</td>\n",
       "      <td>-0.033767</td>\n",
       "      <td>-1.022963</td>\n",
       "      <td>-1.075044</td>\n",
       "      <td>-0.625572</td>\n",
       "      <td>0</td>\n",
       "      <td>0</td>\n",
       "    </tr>\n",
       "    <tr>\n",
       "      <th>269</th>\n",
       "      <td>0.410131</td>\n",
       "      <td>-0.689184</td>\n",
       "      <td>0.634442</td>\n",
       "      <td>-0.145042</td>\n",
       "      <td>-0.599370</td>\n",
       "      <td>-0.346263</td>\n",
       "      <td>-0.049425</td>\n",
       "      <td>-0.507787</td>\n",
       "      <td>-0.188201</td>\n",
       "      <td>-0.450330</td>\n",
       "      <td>1.131889</td>\n",
       "      <td>-0.625572</td>\n",
       "      <td>1</td>\n",
       "      <td>0</td>\n",
       "    </tr>\n",
       "    <tr>\n",
       "      <th>730</th>\n",
       "      <td>-0.186940</td>\n",
       "      <td>1.722665</td>\n",
       "      <td>1.636193</td>\n",
       "      <td>0.466008</td>\n",
       "      <td>-0.599370</td>\n",
       "      <td>0.393784</td>\n",
       "      <td>-2.634116</td>\n",
       "      <td>0.058747</td>\n",
       "      <td>0.275101</td>\n",
       "      <td>1.643050</td>\n",
       "      <td>0.229053</td>\n",
       "      <td>-0.625572</td>\n",
       "      <td>0</td>\n",
       "      <td>0</td>\n",
       "    </tr>\n",
       "    <tr>\n",
       "      <th>1158</th>\n",
       "      <td>-1.032792</td>\n",
       "      <td>-0.523665</td>\n",
       "      <td>-0.367309</td>\n",
       "      <td>0.313245</td>\n",
       "      <td>0.839118</td>\n",
       "      <td>0.034973</td>\n",
       "      <td>1.027530</td>\n",
       "      <td>0.144585</td>\n",
       "      <td>-0.342635</td>\n",
       "      <td>-0.017255</td>\n",
       "      <td>0.479841</td>\n",
       "      <td>-0.625572</td>\n",
       "      <td>1</td>\n",
       "      <td>0</td>\n",
       "    </tr>\n",
       "    <tr>\n",
       "      <th>1787</th>\n",
       "      <td>1.106715</td>\n",
       "      <td>-0.689184</td>\n",
       "      <td>-0.367309</td>\n",
       "      <td>-0.922741</td>\n",
       "      <td>-1.078866</td>\n",
       "      <td>-0.655737</td>\n",
       "      <td>-1.234075</td>\n",
       "      <td>0.868080</td>\n",
       "      <td>0.429534</td>\n",
       "      <td>0.350471</td>\n",
       "      <td>-0.473153</td>\n",
       "      <td>1.548733</td>\n",
       "      <td>0</td>\n",
       "      <td>1</td>\n",
       "    </tr>\n",
       "  </tbody>\n",
       "</table>\n",
       "<p>840 rows × 14 columns</p>\n",
       "</div>"
      ],
      "text/plain": [
       "      account length  area code  customer service calls  total intl charge  \\\n",
       "2463        1.106715  -0.523665                0.634442          -0.061717   \n",
       "1477        0.260863  -0.523665               -0.367309          -0.172817   \n",
       "867        -0.385964   1.722665               -0.367309          -0.783866   \n",
       "3088       -0.037672  -0.523665               -0.367309          -0.520004   \n",
       "2522        0.111596  -0.523665                0.634442          -0.700541   \n",
       "...              ...        ...                     ...                ...   \n",
       "1967        0.957447  -0.523665                1.636193          -0.325579   \n",
       "269         0.410131  -0.689184                0.634442          -0.145042   \n",
       "730        -0.186940   1.722665                1.636193           0.466008   \n",
       "1158       -1.032792  -0.523665               -0.367309           0.313245   \n",
       "1787        1.106715  -0.689184               -0.367309          -0.922741   \n",
       "\n",
       "      total intl calls  total night charge  total night calls  \\\n",
       "2463         -0.119874            0.595615          -0.587902   \n",
       "1477          0.359622           -0.148917           0.542901   \n",
       "867           0.359622            0.174012          -0.480206   \n",
       "3088         -0.599370            0.102250           0.004423   \n",
       "2522          2.277607           -0.081640          -2.095638   \n",
       "...                ...                 ...                ...   \n",
       "1967          2.757103           -0.606401           1.296769   \n",
       "269          -0.599370           -0.346263          -0.049425   \n",
       "730          -0.599370            0.393784          -2.634116   \n",
       "1158          0.839118            0.034973           1.027530   \n",
       "1787         -1.078866           -0.655737          -1.234075   \n",
       "\n",
       "      total eve charge  total eve calls  total day charge  total day calls  \\\n",
       "2463         -0.544574        -0.497069         -0.060452        -0.924571   \n",
       "1477          2.047744         0.892836         -0.288619         0.078580   \n",
       "867          -0.946788        -0.239679         -0.802549        -1.426147   \n",
       "3088         -0.497976        -0.908892          0.558701         1.332519   \n",
       "2522          0.595850         2.025351         -1.219010         2.084883   \n",
       "...                ...              ...               ...              ...   \n",
       "1967          0.968633        -0.033767         -1.022963        -1.075044   \n",
       "269          -0.507787        -0.188201         -0.450330         1.131889   \n",
       "730           0.058747         0.275101          1.643050         0.229053   \n",
       "1158          0.144585        -0.342635         -0.017255         0.479841   \n",
       "1787          0.868080         0.429534          0.350471        -0.473153   \n",
       "\n",
       "      number vmail messages  international plan_yes  voice mail plan_yes  \n",
       "2463               0.145956                       0                    1  \n",
       "1477              -0.625572                       0                    0  \n",
       "867               -0.625572                       0                    0  \n",
       "3088               1.408455                       0                    1  \n",
       "2522              -0.625572                       0                    0  \n",
       "...                     ...                     ...                  ...  \n",
       "1967              -0.625572                       0                    0  \n",
       "269               -0.625572                       1                    0  \n",
       "730               -0.625572                       0                    0  \n",
       "1158              -0.625572                       1                    0  \n",
       "1787               1.548733                       0                    1  \n",
       "\n",
       "[840 rows x 14 columns]"
      ]
     },
     "execution_count": 831,
     "metadata": {},
     "output_type": "execute_result"
    }
   ],
   "source": [
    "#handling categorical features in the dataset by using one hot encoding\n",
    "categorical_columns=['international plan','voice mail plan']\n",
    "numerical_columns=X_test.drop(categorical_columns,axis=1).columns\n",
    "\n",
    "#Separate numerical and categorical features\n",
    "categorical_values=X_test[categorical_columns]\n",
    "numerical_values=X_test[numerical_columns]\n",
    "\n",
    "#One hot encoding categorical features\n",
    "new_cat_df=pd.get_dummies(categorical_values,drop_first=True)\n",
    "\n",
    "# Scale numerical features\n",
    "scaler=StandardScaler()\n",
    "num_scaled=pd.DataFrame(\n",
    "    scaler.fit_transform(numerical_values),\n",
    "    index=numerical_values.index,\n",
    "    columns=numerical_values.columns\n",
    ")\n",
    "X_test_scaled=num_scaled.join(new_cat_df)\n",
    "X_test_scaled\n",
    "\n"
   ]
  },
  {
   "cell_type": "code",
   "execution_count": 832,
   "metadata": {
    "scrolled": false
   },
   "outputs": [
    {
     "name": "stdout",
     "output_type": "stream",
     "text": [
      "False    747\n",
      "True      93\n",
      "Name: Residuals (counts), dtype: int64\n",
      "\n",
      "False    0.889286\n",
      "True     0.110714\n",
      "Name: Residuals (proportions), dtype: float64\n"
     ]
    }
   ],
   "source": [
    "# predict our target\n",
    "y_hat_test = logreg.predict(X_test_scaled)\n",
    "\n",
    "# let's check for the accuracy of our model by calculating the Residuals Square Sum\n",
    "# get the absolute value of our residuals\n",
    "test_residuals = np.abs(y_test ^ y_hat_test)\n",
    "\n",
    "print(pd.Series(test_residuals, name=\"Residuals (counts)\").value_counts())\n",
    "print()\n",
    "print(pd.Series(test_residuals, name=\"Residuals (proportions)\").value_counts(normalize=True))"
   ]
  },
  {
   "cell_type": "markdown",
   "metadata": {},
   "source": [
    "For the test set, the model has a high accuracy in predicting \"False\" instances, with a proportion of approximately 89%.\n",
    "\n",
    "The model has a lower accuracy in predicting \"True\" instances, with a proportion of approximately 11%."
   ]
  },
  {
   "cell_type": "code",
   "execution_count": 833,
   "metadata": {},
   "outputs": [
    {
     "name": "stdout",
     "output_type": "stream",
     "text": [
      "Precision score :0.6857142857142857\n",
      "Recall score :0.22641509433962265\n",
      "Accuracy score :0.8892857142857142\n",
      "F1 score :0.3404255319148936\n"
     ]
    }
   ],
   "source": [
    "print('Precision score :{}'.format(precision_score(y_test,y_hat_test)))\n",
    "print('Recall score :{}'.format(recall_score(y_test,y_hat_test)))\n",
    "print('Accuracy score :{}'.format(accuracy_score(y_test,y_hat_test)))\n",
    "print('F1 score :{}'.format(f1_score(y_test,y_hat_test)))\n"
   ]
  },
  {
   "cell_type": "markdown",
   "metadata": {},
   "source": [
    "The model has high precision, predicting positive instances 69% of the time, but only captures 23% of actual positive instances. Its accuracy is 88.9%, but may not be sufficient in imbalanced datasets. The F1 score balances precision and recall, with a score around 0.34."
   ]
  },
  {
   "cell_type": "code",
   "execution_count": 834,
   "metadata": {},
   "outputs": [
    {
     "name": "stdout",
     "output_type": "stream",
     "text": [
      "Train AUC: 0.8504315468499665\n",
      "Test AUC: 0.8348542491388617\n"
     ]
    },
    {
     "data": {
      "image/png": "[encoded data removed]",
      "text/plain": [
       "<Figure size 576x576 with 1 Axes>"
      ]
     },
     "metadata": {
      "needs_background": "light"
     },
     "output_type": "display_data"
    }
   ],
   "source": [
    "#calculate the decision function scores for training and test set\n",
    "y_train_score = logreg.decision_function(X_trained_scaled)\n",
    "y_test_score = logreg.decision_function(X_test_scaled)\n",
    "# calculate ROC curve and AUC for training set\n",
    "train_fpr, train_tpr, train_thresholds = roc_curve(y_train, y_train_score)\n",
    "train_auc=auc(train_fpr,train_tpr)\n",
    "\n",
    "test_fpr, test_tpr, test_thresholds = roc_curve(y_test, y_test_score)\n",
    "test_auc=auc(test_fpr,test_tpr)\n",
    "print('Train AUC: {}'.format(auc(train_fpr, train_tpr)))\n",
    "print('Test AUC: {}'.format(auc(test_fpr, test_tpr)))\n",
    "\n",
    "# Plot ROC curve\n",
    "plt.figure(figsize=(8, 8))\n",
    "lw=2\n",
    "plt.plot(train_fpr, train_tpr, color='blue',\n",
    "         lw=lw, label='Train ROC curve')\n",
    "plt.plot(test_fpr, test_tpr, color='darkorange',\n",
    "         lw=lw, label='Test ROC curve')\n",
    "\n",
    "plt.xlim([0.0, 1.0])\n",
    "plt.ylim([0.0, 1.05])\n",
    "plt.yticks([i/20.0 for i in range(21)])\n",
    "plt.xticks([i/20.0 for i in range(21)])\n",
    "plt.plot([0, 1], [0, 1], color='navy', lw=lw, linestyle='--', label='Random Guessing')\n",
    "plt.xlabel('False Positive Rate (FPR)')\n",
    "plt.ylabel('True Positive Rate (TPR)')\n",
    "plt.title('Receiver Operating Characteristic (ROC) Curve')\n",
    "plt.legend(loc='lower right')\n",
    "plt.show()"
   ]
  },
  {
   "cell_type": "markdown",
   "metadata": {},
   "source": [
    "Both the Train and Test AUC values are relatively high indicating that the model is performimg well"
   ]
  },
  {
   "cell_type": "code",
   "execution_count": 835,
   "metadata": {},
   "outputs": [
    {
     "name": "stdout",
     "output_type": "stream",
     "text": [
      "Cross-Validation AUC: 1.00 (+/- 0.00)\n"
     ]
    }
   ],
   "source": [
    "\n",
    "\n",
    "cross_val_auc = cross_val_score(logreg, X_train_scaled, y_train, cv=5, scoring='roc_auc')\n",
    "print(\"Cross-Validation AUC: {:.2f} (+/- {:.2f})\".format(cross_val_auc.mean(), cross_val_auc.std() * 2))\n"
   ]
  },
  {
   "cell_type": "code",
   "execution_count": 836,
   "metadata": {},
   "outputs": [
    {
     "data": {
      "image/png": "[encoded data removed]",
      "text/plain": [
       "<Figure size 432x288 with 1 Axes>"
      ]
     },
     "metadata": {
      "needs_background": "light"
     },
     "output_type": "display_data"
    }
   ],
   "source": [
    "#confusion matrix\n",
    "y_pred = logreg.predict(X_test_scaled)\n",
    "cm = confusion_matrix(y_test,y_hat_test)\n",
    "\n",
    "# Plot confusion matrix\n",
    "sns.heatmap(cm, annot=True, fmt='d', cmap='Blues', cbar=False)\n",
    "plt.xlabel('Predicted')\n",
    "plt.ylabel('Actual')\n",
    "plt.title('Confusion Matrix')\n",
    "plt.show()"
   ]
  },
  {
   "cell_type": "markdown",
   "metadata": {},
   "source": [
    "723 instances are correctly predicted  class 0 when the true class was 0.11 instance are incorrectly predicted  class 1 when the true class was 0 .82 instance are incorrectly predicted  class 0 when the true class was 1 .24 instances are correctly predicted  class 1 when the true class was 1"
   ]
  },
  {
   "cell_type": "markdown",
   "metadata": {},
   "source": [
    "## 4.3 Complex Model"
   ]
  },
  {
   "cell_type": "markdown",
   "metadata": {},
   "source": [
    "### Decision Tree Model"
   ]
  },
  {
   "cell_type": "code",
   "execution_count": 837,
   "metadata": {},
   "outputs": [
    {
     "data": {
      "text/plain": [
       "DecisionTreeClassifier(random_state=42)"
      ]
     },
     "execution_count": 837,
     "metadata": {},
     "output_type": "execute_result"
    }
   ],
   "source": [
    "#create an instance \n",
    "clf=DecisionTreeClassifier(random_state=42)\n",
    "#fit the model on the training \n",
    "clf.fit(X_trained_scaled,y_train)"
   ]
  },
  {
   "cell_type": "code",
   "execution_count": 838,
   "metadata": {},
   "outputs": [],
   "source": [
    "#predict on the test set\n",
    "y_pred=clf.predict(X_test_scaled)"
   ]
  },
  {
   "cell_type": "code",
   "execution_count": 839,
   "metadata": {},
   "outputs": [
    {
     "name": "stdout",
     "output_type": "stream",
     "text": [
      "Precision score :0.6333333333333333\n",
      "Recall score :0.5377358490566038\n",
      "Accuracy score :0.9023809523809524\n",
      "F1 score :0.5816326530612245\n"
     ]
    }
   ],
   "source": [
    "#evaluate the model using accuracy,precision,recall,f1\n",
    "print('Precision score :{}'.format(precision_score(y_test,y_pred)))\n",
    "print('Recall score :{}'.format(recall_score(y_test,y_pred)))\n",
    "print('Accuracy score :{}'.format(accuracy_score(y_test,y_pred)))\n",
    "print('F1 score :{}'.format(f1_score(y_test,y_pred)))\n"
   ]
  },
  {
   "cell_type": "markdown",
   "metadata": {},
   "source": [
    "The model demonstrates a good overall performance with a high accuracy score .However the balance between precision and recalls suggests that theremight a be a trade off "
   ]
  },
  {
   "cell_type": "markdown",
   "metadata": {},
   "source": [
    "#### Tuning the model with GridsearchCv"
   ]
  },
  {
   "cell_type": "code",
   "execution_count": 840,
   "metadata": {},
   "outputs": [
    {
     "data": {
      "text/plain": [
       "{'max_depth': 5, 'min_samples_leaf': 2, 'min_samples_split': 2}"
      ]
     },
     "execution_count": 840,
     "metadata": {},
     "output_type": "execute_result"
    }
   ],
   "source": [
    "#Define the parameter\n",
    "param_grid={\n",
    "    'max_depth':[None,5,10,15],\n",
    "    'min_samples_split':[2,5,10],\n",
    "    'min_samples_leaf':[1,2,4]\n",
    "    \n",
    "}\n",
    "#create instance of DecisionTreeClassifier()\n",
    "clf=DecisionTreeClassifier(random_state=42)\n",
    "#gridsearch\n",
    "\n",
    "grid_search_cv=GridSearchCV(clf,param_grid,cv=5)\n",
    "grid_search_cv.fit(X_trained_scaled,y_train)\n",
    "grid_search_cv.best_params_"
   ]
  },
  {
   "cell_type": "code",
   "execution_count": 841,
   "metadata": {},
   "outputs": [],
   "source": [
    "new_clf=grid_search_cv.best_estimator_\n",
    "y_predict=new_clf.predict(X_test_scaled)"
   ]
  },
  {
   "cell_type": "code",
   "execution_count": 842,
   "metadata": {},
   "outputs": [
    {
     "name": "stdout",
     "output_type": "stream",
     "text": [
      "Precision score :0.9107142857142857\n",
      "Recall score :0.4811320754716981\n",
      "Accuracy score :0.9285714285714286\n",
      "F1 score :0.6296296296296295\n"
     ]
    }
   ],
   "source": [
    "#evaluate the model using accuracy,precision,recall,f1\n",
    "print('Precision score :{}'.format(precision_score(y_test,y_predict)))\n",
    "print('Recall score :{}'.format(recall_score(y_test,y_predict)))\n",
    "print('Accuracy score :{}'.format(accuracy_score(y_test,y_predict)))\n",
    "print('F1 score :{}'.format(f1_score(y_test,y_predict)))\n"
   ]
  },
  {
   "cell_type": "markdown",
   "metadata": {},
   "source": [
    "The new model has a higher precision, indicating accuracy when predicting postive instaces.However the recall has reduced indicating that the model icaptures fewer postive instance. It has improved from 0.633 to 0.911, indicating more accurate predictions. However, recall has decreased from 0.538 to 0.481, suggesting fewer positive instances. The model's accuracy has slightly improved, indicating a 92.9% accuracy rate. The F1 score has also improved, indicating a better balance between precision and recall."
   ]
  },
  {
   "cell_type": "code",
   "execution_count": 852,
   "metadata": {
    "scrolled": true
   },
   "outputs": [
    {
     "data": {
      "image/png": "[encoded data removed]",
      "text/plain": [
       "<Figure size 864x720 with 1 Axes>"
      ]
     },
     "metadata": {
      "needs_background": "light"
     },
     "output_type": "display_data"
    }
   ],
   "source": [
    "#Visualize the model\n",
    "plt.figure(figsize=(12,10))\n",
    "plot_tree(new_clf,filled=True,feature_names=X.columns,class_names=['Not Churn','Churn'],fontsize=10,impurity=False,precision=2,proportion=True)\n",
    "plt.show()"
   ]
  },
  {
   "cell_type": "markdown",
   "metadata": {},
   "source": [
    "## 4.3 Random Forest"
   ]
  },
  {
   "cell_type": "code",
   "execution_count": 858,
   "metadata": {},
   "outputs": [
    {
     "name": "stdout",
     "output_type": "stream",
     "text": [
      "Precision score: 0.9792\n",
      "Recall score: 0.4434\n",
      "Accuracy score: 0.9286\n",
      "F1 score: 0.6104\n"
     ]
    }
   ],
   "source": [
    "#instantiate the model\n",
    "\n",
    "rf=RandomForestClassifier()\n",
    "rf.fit(X_trained_scaled,y_train)\n",
    "#Define the hyperparameters\n",
    "param_grid={\n",
    "    'n_estimators':[50,100,200],\n",
    "    'max_depth':[None,5,10,15],\n",
    "    'min_samples_split':[2,5,10],\n",
    "    'min_samples_leaf':[1,2,4]\n",
    "    \n",
    "}\n",
    "#Find the best hyperparameter usig GridSearch\n",
    "grid_search=GridSearchCV(rf,param_grid,cv=5,scoring='accuracy')\n",
    "grid_search.fit(X_trained_scaled,y_train)\n",
    "\n",
    "#get the best param\n",
    "best_param=grid_search.best_params_\n",
    "best_rf_model=grid_search.best_estimator_\n",
    "\n",
    "#predict on the test set\n",
    "y_pred=best_rf_model.predict(X_test_scaled)\n",
    "# Evaluate the model using accuracy, precision, recall, f1\n",
    "print('Precision score: {:.4f}'.format(precision_score(y_test, y_pred)))\n",
    "print('Recall score: {:.4f}'.format(recall_score(y_test, y_pred)))\n",
    "print('Accuracy score: {:.4f}'.format(accuracy_score(y_test, y_pred)))\n",
    "print('F1 score: {:.4f}'.format(f1_score(y_test, y_pred)))"
   ]
  },
  {
   "cell_type": "markdown",
   "metadata": {},
   "source": [
    "### Feature Importance"
   ]
  },
  {
   "cell_type": "code",
   "execution_count": 859,
   "metadata": {},
   "outputs": [
    {
     "data": {
      "image/png": "[encoded data removed]",
      "text/plain": [
       "<Figure size 576x576 with 1 Axes>"
      ]
     },
     "metadata": {
      "needs_background": "light"
     },
     "output_type": "display_data"
    }
   ],
   "source": [
    "# plot the feature importance train set\n",
    "def plot_feature_importance(model):\n",
    "    n_features=X_trained_scaled.shape[1]\n",
    "    plt.figure(figsize=(8,8))\n",
    "    plt.barh(range(n_features),model.feature_importances_,align='center')\n",
    "    plt.yticks(np.arange(n_features),X_trained_scaled.columns.values)\n",
    "    plt.xlabel('Feature Importance')\n",
    "    plt.ylabel('Features')\n",
    "plot_feature_importance(rf)"
   ]
  },
  {
   "cell_type": "code",
   "execution_count": 862,
   "metadata": {},
   "outputs": [
    {
     "data": {
      "image/png": "[encoded data removed]",
      "text/plain": [
       "<Figure size 576x576 with 1 Axes>"
      ]
     },
     "metadata": {
      "needs_background": "light"
     },
     "output_type": "display_data"
    }
   ],
   "source": [
    "# plot the feature importance test set\n",
    "def plot_feature_importance(model):\n",
    "    n_features=X_test_scaled.shape[1]\n",
    "    plt.figure(figsize=(8,8))\n",
    "    plt.barh(range(n_features),model.feature_importances_,align='center')\n",
    "    plt.yticks(np.arange(n_features),X_test_scaled.columns.values)\n",
    "    plt.xlabel('Feature Importance')\n",
    "    plt.ylabel('Features')\n",
    "plot_feature_importance(rf)"
   ]
  },
  {
   "cell_type": "markdown",
   "metadata": {},
   "source": [
    "### Gradient Boost Model"
   ]
  },
  {
   "cell_type": "markdown",
   "metadata": {},
   "source": [
    "Gradient boost model , boosts our data.Gradient Boostis a classification model that minimizes prediction error by combining the best possible model with previous ones , focusing on predicting customer churning"
   ]
  },
  {
   "cell_type": "code",
   "execution_count": null,
   "metadata": {},
   "outputs": [],
   "source": [
    "#instantiate the model\n",
    "gbt= GradientBoostingClassifier()\n",
    "#Define the hyperparameters\n",
    "param_grid={\n",
    "    'n_estimators':[50,100,200],\n",
    "    'max_depth':[None,5,10,15],\n",
    "    'min_samples_split':[2,5,10],\n",
    "    'min_samples_leaf':[1,2,4],\n",
    "    'learning_rate':[0.01,0.1,0.2]\n",
    "    \n",
    "}\n",
    "#Find the best hyperparameter usig GridSearch\n",
    "grid_search=GridSearchCV(gbt,param_grid,cv=5,scoring='accuracy')\n",
    "grid_search.fit(X_trained_scaled,y_train)\n",
    "\n",
    "#get the best param\n",
    "best_param=grid_search.best_params_\n",
    "best_gbt_model=grid_search.best_estimator_\n",
    "\n",
    "#predict on the test set\n",
    "y_pred=best_gbt_model.predict(X_test_scaled)\n",
    "# Evaluate the model using accuracy, precision, recall, f1\n",
    "print('Precision score: {:.4f}'.format(precision_score(y_test, y_pred)))\n",
    "print('Recall score: {:.4f}'.format(recall_score(y_test, y_pred)))\n",
    "print('Accuracy score: {:.4f}'.format(accuracy_score(y_test, y_pred)))\n",
    "print('F1 score: {:.4f}'.format(f1_score(y_test, y_pred)))"
   ]
  },
  {
   "cell_type": "code",
   "execution_count": null,
   "metadata": {},
   "outputs": [],
   "source": []
  },
  {
   "cell_type": "code",
   "execution_count": null,
   "metadata": {},
   "outputs": [],
   "source": []
  },
  {
   "cell_type": "code",
   "execution_count": null,
   "metadata": {},
   "outputs": [],
   "source": []
  }
 ],
 "metadata": {
  "kernelspec": {
   "display_name": "Python 3",
   "language": "python",
   "name": "python3"
  },
  "language_info": {
   "codemirror_mode": {
    "name": "ipython",
    "version": 3
   },
   "file_extension": ".py",
   "mimetype": "text/x-python",
   "name": "python",
   "nbconvert_exporter": "python",
   "pygments_lexer": "ipython3",
   "version": "3.8.5"
  }
 },
 "nbformat": 4,
 "nbformat_minor": 4
}
